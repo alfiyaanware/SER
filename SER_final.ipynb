{
  "nbformat": 4,
  "nbformat_minor": 0,
  "metadata": {
    "colab": {
      "provenance": [],
      "gpuType": "T4"
    },
    "kernelspec": {
      "name": "python3",
      "display_name": "Python 3"
    },
    "language_info": {
      "name": "python"
    },
    "accelerator": "GPU"
  },
  "cells": [
    {
      "cell_type": "code",
      "source": [
        "from google.colab import drive\n",
        "drive.mount('/content/drive')"
      ],
      "metadata": {
        "colab": {
          "base_uri": "https://localhost:8080/"
        },
        "id": "VNhHvslNb7Hg",
        "outputId": "d05f79f1-14da-4160-9607-b0f7d61068db"
      },
      "execution_count": 1,
      "outputs": [
        {
          "output_type": "stream",
          "name": "stdout",
          "text": [
            "Mounted at /content/drive\n"
          ]
        }
      ]
    },
    {
      "cell_type": "code",
      "source": [
        "from google.colab import files\n",
        "files.upload()"
      ],
      "metadata": {
        "colab": {
          "base_uri": "https://localhost:8080/",
          "height": 97
        },
        "id": "O3z9LmzoDOUB",
        "outputId": "f62eee5c-a17e-48d9-e1cf-9563aa56ff7b"
      },
      "execution_count": 2,
      "outputs": [
        {
          "output_type": "display_data",
          "data": {
            "text/plain": [
              "<IPython.core.display.HTML object>"
            ],
            "text/html": [
              "\n",
              "     <input type=\"file\" id=\"files-172a2138-d412-4479-bccb-1985de24b098\" name=\"files[]\" multiple disabled\n",
              "        style=\"border:none\" />\n",
              "     <output id=\"result-172a2138-d412-4479-bccb-1985de24b098\">\n",
              "      Upload widget is only available when the cell has been executed in the\n",
              "      current browser session. Please rerun this cell to enable.\n",
              "      </output>\n",
              "      <script>// Copyright 2017 Google LLC\n",
              "//\n",
              "// Licensed under the Apache License, Version 2.0 (the \"License\");\n",
              "// you may not use this file except in compliance with the License.\n",
              "// You may obtain a copy of the License at\n",
              "//\n",
              "//      http://www.apache.org/licenses/LICENSE-2.0\n",
              "//\n",
              "// Unless required by applicable law or agreed to in writing, software\n",
              "// distributed under the License is distributed on an \"AS IS\" BASIS,\n",
              "// WITHOUT WARRANTIES OR CONDITIONS OF ANY KIND, either express or implied.\n",
              "// See the License for the specific language governing permissions and\n",
              "// limitations under the License.\n",
              "\n",
              "/**\n",
              " * @fileoverview Helpers for google.colab Python module.\n",
              " */\n",
              "(function(scope) {\n",
              "function span(text, styleAttributes = {}) {\n",
              "  const element = document.createElement('span');\n",
              "  element.textContent = text;\n",
              "  for (const key of Object.keys(styleAttributes)) {\n",
              "    element.style[key] = styleAttributes[key];\n",
              "  }\n",
              "  return element;\n",
              "}\n",
              "\n",
              "// Max number of bytes which will be uploaded at a time.\n",
              "const MAX_PAYLOAD_SIZE = 100 * 1024;\n",
              "\n",
              "function _uploadFiles(inputId, outputId) {\n",
              "  const steps = uploadFilesStep(inputId, outputId);\n",
              "  const outputElement = document.getElementById(outputId);\n",
              "  // Cache steps on the outputElement to make it available for the next call\n",
              "  // to uploadFilesContinue from Python.\n",
              "  outputElement.steps = steps;\n",
              "\n",
              "  return _uploadFilesContinue(outputId);\n",
              "}\n",
              "\n",
              "// This is roughly an async generator (not supported in the browser yet),\n",
              "// where there are multiple asynchronous steps and the Python side is going\n",
              "// to poll for completion of each step.\n",
              "// This uses a Promise to block the python side on completion of each step,\n",
              "// then passes the result of the previous step as the input to the next step.\n",
              "function _uploadFilesContinue(outputId) {\n",
              "  const outputElement = document.getElementById(outputId);\n",
              "  const steps = outputElement.steps;\n",
              "\n",
              "  const next = steps.next(outputElement.lastPromiseValue);\n",
              "  return Promise.resolve(next.value.promise).then((value) => {\n",
              "    // Cache the last promise value to make it available to the next\n",
              "    // step of the generator.\n",
              "    outputElement.lastPromiseValue = value;\n",
              "    return next.value.response;\n",
              "  });\n",
              "}\n",
              "\n",
              "/**\n",
              " * Generator function which is called between each async step of the upload\n",
              " * process.\n",
              " * @param {string} inputId Element ID of the input file picker element.\n",
              " * @param {string} outputId Element ID of the output display.\n",
              " * @return {!Iterable<!Object>} Iterable of next steps.\n",
              " */\n",
              "function* uploadFilesStep(inputId, outputId) {\n",
              "  const inputElement = document.getElementById(inputId);\n",
              "  inputElement.disabled = false;\n",
              "\n",
              "  const outputElement = document.getElementById(outputId);\n",
              "  outputElement.innerHTML = '';\n",
              "\n",
              "  const pickedPromise = new Promise((resolve) => {\n",
              "    inputElement.addEventListener('change', (e) => {\n",
              "      resolve(e.target.files);\n",
              "    });\n",
              "  });\n",
              "\n",
              "  const cancel = document.createElement('button');\n",
              "  inputElement.parentElement.appendChild(cancel);\n",
              "  cancel.textContent = 'Cancel upload';\n",
              "  const cancelPromise = new Promise((resolve) => {\n",
              "    cancel.onclick = () => {\n",
              "      resolve(null);\n",
              "    };\n",
              "  });\n",
              "\n",
              "  // Wait for the user to pick the files.\n",
              "  const files = yield {\n",
              "    promise: Promise.race([pickedPromise, cancelPromise]),\n",
              "    response: {\n",
              "      action: 'starting',\n",
              "    }\n",
              "  };\n",
              "\n",
              "  cancel.remove();\n",
              "\n",
              "  // Disable the input element since further picks are not allowed.\n",
              "  inputElement.disabled = true;\n",
              "\n",
              "  if (!files) {\n",
              "    return {\n",
              "      response: {\n",
              "        action: 'complete',\n",
              "      }\n",
              "    };\n",
              "  }\n",
              "\n",
              "  for (const file of files) {\n",
              "    const li = document.createElement('li');\n",
              "    li.append(span(file.name, {fontWeight: 'bold'}));\n",
              "    li.append(span(\n",
              "        `(${file.type || 'n/a'}) - ${file.size} bytes, ` +\n",
              "        `last modified: ${\n",
              "            file.lastModifiedDate ? file.lastModifiedDate.toLocaleDateString() :\n",
              "                                    'n/a'} - `));\n",
              "    const percent = span('0% done');\n",
              "    li.appendChild(percent);\n",
              "\n",
              "    outputElement.appendChild(li);\n",
              "\n",
              "    const fileDataPromise = new Promise((resolve) => {\n",
              "      const reader = new FileReader();\n",
              "      reader.onload = (e) => {\n",
              "        resolve(e.target.result);\n",
              "      };\n",
              "      reader.readAsArrayBuffer(file);\n",
              "    });\n",
              "    // Wait for the data to be ready.\n",
              "    let fileData = yield {\n",
              "      promise: fileDataPromise,\n",
              "      response: {\n",
              "        action: 'continue',\n",
              "      }\n",
              "    };\n",
              "\n",
              "    // Use a chunked sending to avoid message size limits. See b/62115660.\n",
              "    let position = 0;\n",
              "    do {\n",
              "      const length = Math.min(fileData.byteLength - position, MAX_PAYLOAD_SIZE);\n",
              "      const chunk = new Uint8Array(fileData, position, length);\n",
              "      position += length;\n",
              "\n",
              "      const base64 = btoa(String.fromCharCode.apply(null, chunk));\n",
              "      yield {\n",
              "        response: {\n",
              "          action: 'append',\n",
              "          file: file.name,\n",
              "          data: base64,\n",
              "        },\n",
              "      };\n",
              "\n",
              "      let percentDone = fileData.byteLength === 0 ?\n",
              "          100 :\n",
              "          Math.round((position / fileData.byteLength) * 100);\n",
              "      percent.textContent = `${percentDone}% done`;\n",
              "\n",
              "    } while (position < fileData.byteLength);\n",
              "  }\n",
              "\n",
              "  // All done.\n",
              "  yield {\n",
              "    response: {\n",
              "      action: 'complete',\n",
              "    }\n",
              "  };\n",
              "}\n",
              "\n",
              "scope.google = scope.google || {};\n",
              "scope.google.colab = scope.google.colab || {};\n",
              "scope.google.colab._files = {\n",
              "  _uploadFiles,\n",
              "  _uploadFilesContinue,\n",
              "};\n",
              "})(self);\n",
              "</script> "
            ]
          },
          "metadata": {}
        },
        {
          "output_type": "stream",
          "name": "stdout",
          "text": [
            "Saving kaggle.json to kaggle.json\n"
          ]
        },
        {
          "output_type": "execute_result",
          "data": {
            "text/plain": [
              "{'kaggle.json': b'{\"username\":\"alekyaarra\",\"key\":\"383778af7e1547e15e553a22d7d9a00d\"}'}"
            ]
          },
          "metadata": {},
          "execution_count": 2
        }
      ]
    },
    {
      "cell_type": "code",
      "source": [
        "!pip install -q kaggle"
      ],
      "metadata": {
        "id": "FkN7FoiPDfLQ"
      },
      "execution_count": 3,
      "outputs": []
    },
    {
      "cell_type": "code",
      "source": [
        "!mkdir -p ~/.kaggle\n",
        "!cp kaggle.json ~/.kaggle/"
      ],
      "metadata": {
        "id": "4bmgXv-lDlIP"
      },
      "execution_count": 4,
      "outputs": []
    },
    {
      "cell_type": "code",
      "source": [
        "!chmod 600 /root/.kaggle/kaggle.json"
      ],
      "metadata": {
        "id": "VBbkDFeyDn4Y"
      },
      "execution_count": 5,
      "outputs": []
    },
    {
      "cell_type": "code",
      "source": [
        "!pwd"
      ],
      "metadata": {
        "colab": {
          "base_uri": "https://localhost:8080/"
        },
        "id": "bM4priuCDrHj",
        "outputId": "ec9be160-0dd3-4932-b7c7-60dc485c5cd8"
      },
      "execution_count": 6,
      "outputs": [
        {
          "output_type": "stream",
          "name": "stdout",
          "text": [
            "/content\n"
          ]
        }
      ]
    },
    {
      "cell_type": "code",
      "source": [
        "!kaggle datasets download -d dmitrybabko/speech-emotion-recognition-en"
      ],
      "metadata": {
        "colab": {
          "base_uri": "https://localhost:8080/"
        },
        "id": "IOFvlKL0Dvxb",
        "outputId": "9e5db316-c8f3-4899-a70e-bcd74d02e339"
      },
      "execution_count": 7,
      "outputs": [
        {
          "output_type": "stream",
          "name": "stdout",
          "text": [
            "Downloading speech-emotion-recognition-en.zip to /content\n",
            "100% 985M/987M [00:11<00:00, 199MB/s]\n",
            "100% 987M/987M [00:11<00:00, 92.9MB/s]\n"
          ]
        }
      ]
    },
    {
      "cell_type": "code",
      "source": [
        "!unzip /content/speech-emotion-recognition-en.zip"
      ],
      "metadata": {
        "id": "trxWwCVKD-93"
      },
      "execution_count": null,
      "outputs": []
    },
    {
      "cell_type": "code",
      "source": [
        "%%capture\n",
        "!pip install pydub\n",
        "!pip install noisereduce\n",
        "!pip install json-tricks"
      ],
      "metadata": {
        "id": "plervp6VuUNM"
      },
      "execution_count": 9,
      "outputs": []
    },
    {
      "cell_type": "code",
      "source": [
        "%%capture\n",
        "import numpy as np\n",
        "import os\n",
        "from json_tricks import dump, load\n",
        "\n",
        "from pydub import AudioSegment, effects\n",
        "import librosa\n",
        "import noisereduce as nr\n",
        "\n",
        "import tensorflow as tf\n",
        "import keras\n",
        "import sklearn"
      ],
      "metadata": {
        "id": "fctn0WKIuUfJ"
      },
      "execution_count": 10,
      "outputs": []
    },
    {
      "cell_type": "code",
      "source": [
        "# Emotion kind validation function for TESS database, due to emotions written within the file names.\n",
        "def find_emotion_T(name):\n",
        "  #TESS\n",
        "        if('neutral' in name): return \"01\"\n",
        "        elif('happy' in name): return \"03\"\n",
        "        elif('sad' in name): return \"04\"\n",
        "        elif('angry' in name): return \"05\"\n",
        "        elif('fear' in name): return \"06\"\n",
        "        elif('disgust' in name): return \"07\"\n",
        "        elif('ps' in name): return \"08\"\n",
        "\n",
        "  #SAVDESS\n",
        "        elif('n' in name): return \"02\"\n",
        "        elif('h' in name): return \"03\"\n",
        "        elif('sa' in name): return \"04\"\n",
        "        elif('f' in name): return \"06\"\n",
        "        elif('a' in name): return \"05\"\n",
        "        elif('d' in name): return \"07\"\n",
        "        elif('su' in name): return \"08\"\n",
        "\n",
        "        else: return \"-1\"\n",
        "\n",
        "\n",
        "# 'emotions' list fix for classification purposes:\n",
        "#     Classification values start from 0, Thus an 'n = n-1' operation has been executed for both RAVDESS and TESS databases:\n",
        "def emotionfix(e_num):\n",
        "    if e_num == \"01\":   return 0 # neutral\n",
        "    elif e_num == \"02\": return 1 # calm\n",
        "    elif e_num == \"03\": return 2 # happy\n",
        "    elif e_num == \"04\": return 3 # sad\n",
        "    elif e_num == \"05\": return 4 # angry\n",
        "    elif e_num == \"06\": return 5 # fear\n",
        "    elif e_num == \"07\": return 6 # disgust\n",
        "    else:               return 7 # suprised"
      ],
      "metadata": {
        "id": "KCI7gYERuV1o"
      },
      "execution_count": null,
      "outputs": []
    },
    {
      "cell_type": "code",
      "source": [
        "# Maximum samples count for padding purposes.\n",
        "from tqdm import tqdm\n",
        "sample_lengths = []\n",
        "folder_path = '/content/drive/MyDrive/Datathon/Ravdess/audio_speech_actors_01-24'\n",
        "\n",
        "for subdir, dirs, files in tqdm(os.walk(folder_path)):\n",
        "  for file in files:\n",
        "    x, sr = librosa.load(path = os.path.join(subdir,file), sr = None)\n",
        "    rawsound = AudioSegment.from_file(os.path.join(subdir,file))\n",
        "    normalizedsound = effects.normalize(rawsound, headroom = 0)\n",
        "    normal_x = np.array(normalizedsound.get_array_of_samples(), dtype = 'float32')\n",
        "    xt, index = librosa.effects.trim(normal_x, top_db=30)\n",
        "    sample_lengths.append(len(xt))\n",
        "\n",
        "# f_path = '/content/drive/MyDrive/Datathon/Tess'\n",
        "# for subdir, dirs, files in tqdm(os.walk(f_path)):\n",
        "#   for file in files:\n",
        "#     x, sr = librosa.load(path = os.path.join(subdir,file), sr = None)\n",
        "#     xt, index = librosa.effects.trim(x, top_db=30)\n",
        "#     sample_lengths.append(len(xt))\n",
        "\n",
        "print('\\nMaximum sample length:', np.max(sample_lengths))"
      ],
      "metadata": {
        "colab": {
          "base_uri": "https://localhost:8080/",
          "height": 373
        },
        "id": "Ige5ir3wuYI0",
        "outputId": "8674ce95-8ae3-44f2-9917-73466c3d6509"
      },
      "execution_count": null,
      "outputs": [
        {
          "output_type": "stream",
          "name": "stderr",
          "text": [
            "3it [01:07, 22.42s/it]\n"
          ]
        },
        {
          "output_type": "error",
          "ename": "KeyboardInterrupt",
          "evalue": "",
          "traceback": [
            "\u001b[0;31m---------------------------------------------------------------------------\u001b[0m",
            "\u001b[0;31mKeyboardInterrupt\u001b[0m                         Traceback (most recent call last)",
            "\u001b[0;32m<ipython-input-5-2c5514b9aa2a>\u001b[0m in \u001b[0;36m<cell line: 6>\u001b[0;34m()\u001b[0m\n\u001b[1;32m      6\u001b[0m \u001b[0;32mfor\u001b[0m \u001b[0msubdir\u001b[0m\u001b[0;34m,\u001b[0m \u001b[0mdirs\u001b[0m\u001b[0;34m,\u001b[0m \u001b[0mfiles\u001b[0m \u001b[0;32min\u001b[0m \u001b[0mtqdm\u001b[0m\u001b[0;34m(\u001b[0m\u001b[0mos\u001b[0m\u001b[0;34m.\u001b[0m\u001b[0mwalk\u001b[0m\u001b[0;34m(\u001b[0m\u001b[0mfolder_path\u001b[0m\u001b[0;34m)\u001b[0m\u001b[0;34m)\u001b[0m\u001b[0;34m:\u001b[0m\u001b[0;34m\u001b[0m\u001b[0;34m\u001b[0m\u001b[0m\n\u001b[1;32m      7\u001b[0m   \u001b[0;32mfor\u001b[0m \u001b[0mfile\u001b[0m \u001b[0;32min\u001b[0m \u001b[0mfiles\u001b[0m\u001b[0;34m:\u001b[0m\u001b[0;34m\u001b[0m\u001b[0;34m\u001b[0m\u001b[0m\n\u001b[0;32m----> 8\u001b[0;31m     \u001b[0mx\u001b[0m\u001b[0;34m,\u001b[0m \u001b[0msr\u001b[0m \u001b[0;34m=\u001b[0m \u001b[0mlibrosa\u001b[0m\u001b[0;34m.\u001b[0m\u001b[0mload\u001b[0m\u001b[0;34m(\u001b[0m\u001b[0mpath\u001b[0m \u001b[0;34m=\u001b[0m \u001b[0mos\u001b[0m\u001b[0;34m.\u001b[0m\u001b[0mpath\u001b[0m\u001b[0;34m.\u001b[0m\u001b[0mjoin\u001b[0m\u001b[0;34m(\u001b[0m\u001b[0msubdir\u001b[0m\u001b[0;34m,\u001b[0m\u001b[0mfile\u001b[0m\u001b[0;34m)\u001b[0m\u001b[0;34m,\u001b[0m \u001b[0msr\u001b[0m \u001b[0;34m=\u001b[0m \u001b[0;32mNone\u001b[0m\u001b[0;34m)\u001b[0m\u001b[0;34m\u001b[0m\u001b[0;34m\u001b[0m\u001b[0m\n\u001b[0m\u001b[1;32m      9\u001b[0m     \u001b[0mrawsound\u001b[0m \u001b[0;34m=\u001b[0m \u001b[0mAudioSegment\u001b[0m\u001b[0;34m.\u001b[0m\u001b[0mfrom_file\u001b[0m\u001b[0;34m(\u001b[0m\u001b[0mos\u001b[0m\u001b[0;34m.\u001b[0m\u001b[0mpath\u001b[0m\u001b[0;34m.\u001b[0m\u001b[0mjoin\u001b[0m\u001b[0;34m(\u001b[0m\u001b[0msubdir\u001b[0m\u001b[0;34m,\u001b[0m\u001b[0mfile\u001b[0m\u001b[0;34m)\u001b[0m\u001b[0;34m)\u001b[0m\u001b[0;34m\u001b[0m\u001b[0;34m\u001b[0m\u001b[0m\n\u001b[1;32m     10\u001b[0m     \u001b[0mnormalizedsound\u001b[0m \u001b[0;34m=\u001b[0m \u001b[0meffects\u001b[0m\u001b[0;34m.\u001b[0m\u001b[0mnormalize\u001b[0m\u001b[0;34m(\u001b[0m\u001b[0mrawsound\u001b[0m\u001b[0;34m,\u001b[0m \u001b[0mheadroom\u001b[0m \u001b[0;34m=\u001b[0m \u001b[0;36m0\u001b[0m\u001b[0;34m)\u001b[0m\u001b[0;34m\u001b[0m\u001b[0;34m\u001b[0m\u001b[0m\n",
            "\u001b[0;32m/usr/local/lib/python3.10/dist-packages/librosa/core/audio.py\u001b[0m in \u001b[0;36mload\u001b[0;34m(path, sr, mono, offset, duration, dtype, res_type)\u001b[0m\n\u001b[1;32m    173\u001b[0m         \u001b[0;31m# Otherwise try soundfile first, and then fall back if necessary\u001b[0m\u001b[0;34m\u001b[0m\u001b[0;34m\u001b[0m\u001b[0m\n\u001b[1;32m    174\u001b[0m         \u001b[0;32mtry\u001b[0m\u001b[0;34m:\u001b[0m\u001b[0;34m\u001b[0m\u001b[0;34m\u001b[0m\u001b[0m\n\u001b[0;32m--> 175\u001b[0;31m             \u001b[0my\u001b[0m\u001b[0;34m,\u001b[0m \u001b[0msr_native\u001b[0m \u001b[0;34m=\u001b[0m \u001b[0m__soundfile_load\u001b[0m\u001b[0;34m(\u001b[0m\u001b[0mpath\u001b[0m\u001b[0;34m,\u001b[0m \u001b[0moffset\u001b[0m\u001b[0;34m,\u001b[0m \u001b[0mduration\u001b[0m\u001b[0;34m,\u001b[0m \u001b[0mdtype\u001b[0m\u001b[0;34m)\u001b[0m\u001b[0;34m\u001b[0m\u001b[0;34m\u001b[0m\u001b[0m\n\u001b[0m\u001b[1;32m    176\u001b[0m \u001b[0;34m\u001b[0m\u001b[0m\n\u001b[1;32m    177\u001b[0m         \u001b[0;32mexcept\u001b[0m \u001b[0msf\u001b[0m\u001b[0;34m.\u001b[0m\u001b[0mSoundFileRuntimeError\u001b[0m \u001b[0;32mas\u001b[0m \u001b[0mexc\u001b[0m\u001b[0;34m:\u001b[0m\u001b[0;34m\u001b[0m\u001b[0;34m\u001b[0m\u001b[0m\n",
            "\u001b[0;32m/usr/local/lib/python3.10/dist-packages/librosa/core/audio.py\u001b[0m in \u001b[0;36m__soundfile_load\u001b[0;34m(path, offset, duration, dtype)\u001b[0m\n\u001b[1;32m    206\u001b[0m     \u001b[0;32melse\u001b[0m\u001b[0;34m:\u001b[0m\u001b[0;34m\u001b[0m\u001b[0;34m\u001b[0m\u001b[0m\n\u001b[1;32m    207\u001b[0m         \u001b[0;31m# Otherwise, create the soundfile object\u001b[0m\u001b[0;34m\u001b[0m\u001b[0;34m\u001b[0m\u001b[0m\n\u001b[0;32m--> 208\u001b[0;31m         \u001b[0mcontext\u001b[0m \u001b[0;34m=\u001b[0m \u001b[0msf\u001b[0m\u001b[0;34m.\u001b[0m\u001b[0mSoundFile\u001b[0m\u001b[0;34m(\u001b[0m\u001b[0mpath\u001b[0m\u001b[0;34m)\u001b[0m\u001b[0;34m\u001b[0m\u001b[0;34m\u001b[0m\u001b[0m\n\u001b[0m\u001b[1;32m    209\u001b[0m \u001b[0;34m\u001b[0m\u001b[0m\n\u001b[1;32m    210\u001b[0m     \u001b[0;32mwith\u001b[0m \u001b[0mcontext\u001b[0m \u001b[0;32mas\u001b[0m \u001b[0msf_desc\u001b[0m\u001b[0;34m:\u001b[0m\u001b[0;34m\u001b[0m\u001b[0;34m\u001b[0m\u001b[0m\n",
            "\u001b[0;32m/usr/local/lib/python3.10/dist-packages/soundfile.py\u001b[0m in \u001b[0;36m__init__\u001b[0;34m(self, file, mode, samplerate, channels, subtype, endian, format, closefd)\u001b[0m\n\u001b[1;32m    656\u001b[0m         self._info = _create_info_struct(file, mode, samplerate, channels,\n\u001b[1;32m    657\u001b[0m                                          format, subtype, endian)\n\u001b[0;32m--> 658\u001b[0;31m         \u001b[0mself\u001b[0m\u001b[0;34m.\u001b[0m\u001b[0m_file\u001b[0m \u001b[0;34m=\u001b[0m \u001b[0mself\u001b[0m\u001b[0;34m.\u001b[0m\u001b[0m_open\u001b[0m\u001b[0;34m(\u001b[0m\u001b[0mfile\u001b[0m\u001b[0;34m,\u001b[0m \u001b[0mmode_int\u001b[0m\u001b[0;34m,\u001b[0m \u001b[0mclosefd\u001b[0m\u001b[0;34m)\u001b[0m\u001b[0;34m\u001b[0m\u001b[0;34m\u001b[0m\u001b[0m\n\u001b[0m\u001b[1;32m    659\u001b[0m         \u001b[0;32mif\u001b[0m \u001b[0mset\u001b[0m\u001b[0;34m(\u001b[0m\u001b[0mmode\u001b[0m\u001b[0;34m)\u001b[0m\u001b[0;34m.\u001b[0m\u001b[0missuperset\u001b[0m\u001b[0;34m(\u001b[0m\u001b[0;34m'r+'\u001b[0m\u001b[0;34m)\u001b[0m \u001b[0;32mand\u001b[0m \u001b[0mself\u001b[0m\u001b[0;34m.\u001b[0m\u001b[0mseekable\u001b[0m\u001b[0;34m(\u001b[0m\u001b[0;34m)\u001b[0m\u001b[0;34m:\u001b[0m\u001b[0;34m\u001b[0m\u001b[0;34m\u001b[0m\u001b[0m\n\u001b[1;32m    660\u001b[0m             \u001b[0;31m# Move write position to 0 (like in Python file objects)\u001b[0m\u001b[0;34m\u001b[0m\u001b[0;34m\u001b[0m\u001b[0m\n",
            "\u001b[0;32m/usr/local/lib/python3.10/dist-packages/soundfile.py\u001b[0m in \u001b[0;36m_open\u001b[0;34m(self, file, mode_int, closefd)\u001b[0m\n\u001b[1;32m   1203\u001b[0m                 \u001b[0;32melse\u001b[0m\u001b[0;34m:\u001b[0m\u001b[0;34m\u001b[0m\u001b[0;34m\u001b[0m\u001b[0m\n\u001b[1;32m   1204\u001b[0m                     \u001b[0mfile\u001b[0m \u001b[0;34m=\u001b[0m \u001b[0mfile\u001b[0m\u001b[0;34m.\u001b[0m\u001b[0mencode\u001b[0m\u001b[0;34m(\u001b[0m\u001b[0m_sys\u001b[0m\u001b[0;34m.\u001b[0m\u001b[0mgetfilesystemencoding\u001b[0m\u001b[0;34m(\u001b[0m\u001b[0;34m)\u001b[0m\u001b[0;34m)\u001b[0m\u001b[0;34m\u001b[0m\u001b[0;34m\u001b[0m\u001b[0m\n\u001b[0;32m-> 1205\u001b[0;31m             \u001b[0mfile_ptr\u001b[0m \u001b[0;34m=\u001b[0m \u001b[0mopenfunction\u001b[0m\u001b[0;34m(\u001b[0m\u001b[0mfile\u001b[0m\u001b[0;34m,\u001b[0m \u001b[0mmode_int\u001b[0m\u001b[0;34m,\u001b[0m \u001b[0mself\u001b[0m\u001b[0;34m.\u001b[0m\u001b[0m_info\u001b[0m\u001b[0;34m)\u001b[0m\u001b[0;34m\u001b[0m\u001b[0;34m\u001b[0m\u001b[0m\n\u001b[0m\u001b[1;32m   1206\u001b[0m         \u001b[0;32melif\u001b[0m \u001b[0misinstance\u001b[0m\u001b[0;34m(\u001b[0m\u001b[0mfile\u001b[0m\u001b[0;34m,\u001b[0m \u001b[0mint\u001b[0m\u001b[0;34m)\u001b[0m\u001b[0;34m:\u001b[0m\u001b[0;34m\u001b[0m\u001b[0;34m\u001b[0m\u001b[0m\n\u001b[1;32m   1207\u001b[0m             \u001b[0mfile_ptr\u001b[0m \u001b[0;34m=\u001b[0m \u001b[0m_snd\u001b[0m\u001b[0;34m.\u001b[0m\u001b[0msf_open_fd\u001b[0m\u001b[0;34m(\u001b[0m\u001b[0mfile\u001b[0m\u001b[0;34m,\u001b[0m \u001b[0mmode_int\u001b[0m\u001b[0;34m,\u001b[0m \u001b[0mself\u001b[0m\u001b[0;34m.\u001b[0m\u001b[0m_info\u001b[0m\u001b[0;34m,\u001b[0m \u001b[0mclosefd\u001b[0m\u001b[0;34m)\u001b[0m\u001b[0;34m\u001b[0m\u001b[0;34m\u001b[0m\u001b[0m\n",
            "\u001b[0;31mKeyboardInterrupt\u001b[0m: "
          ]
        }
      ]
    },
    {
      "cell_type": "code",
      "source": [
        "f_path = '/content/drive/MyDrive/Datathon/Tess'\n",
        "for subdir, dirs, files in tqdm(os.walk(f_path)):\n",
        "  for file in files:\n",
        "    x, sr = librosa.load(path = os.path.join(subdir,file), sr = None)\n",
        "    rawsound = AudioSegment.from_file(os.path.join(subdir,file))\n",
        "    normalizedsound = effects.normalize(rawsound, headroom = 0)\n",
        "    normal_x = np.array(normalizedsound.get_array_of_samples(), dtype = 'float32')\n",
        "    xt, index = librosa.effects.trim(normal_x, top_db=30)\n",
        "    sample_lengths.append(len(xt))\n",
        "\n",
        "print('\\nMaximum sample length:', np.max(sample_lengths))"
      ],
      "metadata": {
        "id": "LCLleNLjcAI5"
      },
      "execution_count": null,
      "outputs": []
    },
    {
      "cell_type": "code",
      "source": [
        "p1 = '/content/drive/MyDrive/Datathon/Crema'\n",
        "for subdir, dirs, files in tqdm(os.walk(p1)):\n",
        "  for file in files:\n",
        "    #print(os.path.join(subdir,file))\n",
        "    x, sr = librosa.load(path = os.path.join(subdir,file), sr = None)\n",
        "    rawsound = AudioSegment.from_file(os.path.join(subdir,file))\n",
        "    normalizedsound = effects.normalize(rawsound, headroom = 0)\n",
        "    normal_x = np.array(normalizedsound.get_array_of_samples(), dtype = 'float32')\n",
        "    xt, index = librosa.effects.trim(normal_x, top_db=30)\n",
        "    sample_lengths.append(len(xt))\n",
        "\n",
        "print('\\nMaximum sample length:', np.max(sample_lengths))"
      ],
      "metadata": {
        "id": "Ap8zqupbfAZt"
      },
      "execution_count": null,
      "outputs": []
    },
    {
      "cell_type": "code",
      "source": [
        "p2 = '/content/drive/MyDrive/Datathon/Savee'\n",
        "for subdir, dirs, files in tqdm(os.walk(p2)):\n",
        "  for file in files:\n",
        "    #print(os.path.join(subdir,file))\n",
        "    x, sr = librosa.load(path = os.path.join(subdir,file), sr = None)\n",
        "    rawsound = AudioSegment.from_file(os.path.join(subdir,file))\n",
        "    normalizedsound = effects.normalize(rawsound, headroom = 0)\n",
        "    normal_x = np.array(normalizedsound.get_array_of_samples(), dtype = 'float32')\n",
        "    xt, index = librosa.effects.trim(normal_x, top_db=30)\n",
        "    sample_lengths.append(len(xt))\n",
        "\n",
        "print('\\nMaximum sample length:', np.max(sample_lengths))"
      ],
      "metadata": {
        "id": "hyHFH8yYfnf8"
      },
      "execution_count": null,
      "outputs": []
    },
    {
      "cell_type": "code",
      "source": [
        "def fea(folder_path):\n",
        "  for subdir, dirs, files in tqdm(os.walk(folder_path)):\n",
        "    for file in files:\n",
        "\n",
        "      # Fetch the sample rate.\n",
        "        _, sr = librosa.load(path = os.path.join(subdir,file), sr = None) # sr (the sample rate) is used for librosa's MFCCs. '_' is irrelevant.\n",
        "      # Load the audio file.\n",
        "        rawsound = AudioSegment.from_file(os.path.join(subdir,file))\n",
        "      # Normalize the audio to +5.0 dBFS.\n",
        "        normalizedsound = effects.normalize(rawsound, headroom = 0)\n",
        "      # Transform the normalized audio to np.array of samples.\n",
        "        normal_x = np.array(normalizedsound.get_array_of_samples(), dtype = 'float32')\n",
        "        #print(\"normal \" + str(len(normal_x)))\n",
        "      # Trim silence from the beginning and the end.\n",
        "        xt, index = librosa.effects.trim(normal_x, top_db=30)\n",
        "        #print(\"xt \" + str(len(xt)))\n",
        "        #print(file,\"\\t\", len(xt), \"\\t\", rawsound.dBFS, \"\\t\", normalizedsound.dBFS) #--QA purposes if needed--\n",
        "      # Pad for duration equalization.\n",
        "        padded_x = np.pad(xt, (0, total_length-len(xt)), 'constant')\n",
        "      # Noise reduction.\n",
        "        final_x = nr.reduce_noise(padded_x, sr=sr) #updated 03/03/22\n",
        "\n",
        "    # Features extraction\n",
        "        f1 = librosa.feature.rms(y=final_x, frame_length=frame_length, hop_length=hop_length) # Energy - Root Mean Square\n",
        "        f2 = librosa.feature.zero_crossing_rate(final_x , frame_length=frame_length, hop_length=hop_length, center=True) # ZCR\n",
        "        f3 = librosa.feature.mfcc(y=final_x, sr=sr, n_mfcc=13, hop_length = hop_length) # MFCC\n",
        "\n",
        "    # Emotion extraction from the different databases\n",
        "        if (find_emotion_T(file) != \"-1\"): #TESS database validation\n",
        "              name = find_emotion_T(file)\n",
        "        else:                              #RAVDESS database validation\n",
        "              name = file[6:8]\n",
        "\n",
        "    # Filling the data lists\n",
        "        rms.append(f1)\n",
        "        zcr.append(f2)\n",
        "        mfcc.append(f3)\n",
        "        emotions.append(emotionfix(name))\n",
        "\n",
        "# toc = time.perf_counter()\n",
        "# print(f\"Running time: {(toc - tic)/60:0.4f} minutes\")"
      ],
      "metadata": {
        "id": "IhEyGpVBurNm"
      },
      "execution_count": null,
      "outputs": []
    },
    {
      "cell_type": "code",
      "source": [
        "# import time\n",
        "# tic = time.perf_counter()\n",
        "\n",
        "# Initialize data lists\n",
        "rms = []\n",
        "zcr = []\n",
        "mfcc = []\n",
        "emotions = []\n",
        "\n",
        "# Initialize variables\n",
        "total_length = 314818 # desired frame length for all of the audio samples.\n",
        "frame_length = 2048\n",
        "hop_length = 512\n",
        "\n",
        "folder_path = '/content/drive/MyDrive/Datathon/Ravdess/audio_speech_actors_01-24'\n",
        "f_path = '/content/drive/MyDrive/Datathon/Tess'\n",
        "\n",
        "print(\"---Ravdess---\\n\")\n",
        "fea(folder_path)\n",
        "print(\"---Tess---\\n\")\n",
        "fea(f_path)\n"
      ],
      "metadata": {
        "id": "4d2igvoau67E"
      },
      "execution_count": null,
      "outputs": []
    },
    {
      "cell_type": "code",
      "source": [
        "print(\"---Savee---\\n\")\n",
        "fea(p2)"
      ],
      "metadata": {
        "id": "CU50cyDGoSvW"
      },
      "execution_count": null,
      "outputs": []
    },
    {
      "cell_type": "code",
      "source": [
        "# f_rms = np.array(rms, dtype=object)"
      ],
      "metadata": {
        "id": "7AGMCppC2TCW"
      },
      "execution_count": null,
      "outputs": []
    },
    {
      "cell_type": "code",
      "source": [
        "# Adjusting features shape to the 3D format: (batch, timesteps, feature)\n",
        "\n",
        "f_rms = np.asarray(rms).astype('float32')\n",
        "f_rms = np.swapaxes(f_rms,1,2)\n",
        "f_zcr = np.asarray(zcr).astype('float32')\n",
        "f_zcr = np.swapaxes(f_zcr,1,2)\n",
        "f_mfccs = np.asarray(mfcc).astype('float32')\n",
        "f_mfccs = np.swapaxes(f_mfccs,1,2)\n",
        "\n",
        "print('ZCR shape:',f_zcr.shape)\n",
        "print('RMS shape:',f_rms.shape)\n",
        "print('MFCCs shape:',f_mfccs.shape)"
      ],
      "metadata": {
        "id": "hd9Dc84MvFQA"
      },
      "execution_count": null,
      "outputs": []
    },
    {
      "cell_type": "code",
      "source": [
        "# Concatenating all features to 'X' variable.\n",
        "X = np.concatenate((f_zcr, f_rms, f_mfccs), axis=2)\n",
        "\n",
        "# Preparing 'Y' as a 2D shaped variable.\n",
        "Y = np.asarray(emotions).astype('int8')\n",
        "Y = np.expand_dims(Y, axis=1)"
      ],
      "metadata": {
        "id": "WEIht4r8vIgn"
      },
      "execution_count": null,
      "outputs": []
    },
    {
      "cell_type": "code",
      "source": [
        "# Save X,Y arrays as lists to json files.\n",
        "\n",
        "x_data = X.tolist()\n",
        "x_path = '/content/drive/My Drive/Colab Notebooks/X_datanew_10.json' # FILE SAVE PATH\n",
        "dump(obj = x_data, fp = x_path)\n",
        "\n",
        "y_data = Y.tolist()\n",
        "y_path = '/content/drive/My Drive/Colab Notebooks/Y_datanew_10.json' # FILE SAVE PATH\n",
        "dump(obj = y_data, fp = y_path)"
      ],
      "metadata": {
        "id": "AX18q1zfvK1C"
      },
      "execution_count": null,
      "outputs": []
    },
    {
      "cell_type": "markdown",
      "source": [
        "#from here"
      ],
      "metadata": {
        "id": "HlWL3hvKEojj"
      }
    },
    {
      "cell_type": "code",
      "source": [
        "# Load X,Y json files back into lists, convert to np.arrays\n",
        "\n",
        "x_path = '/content/drive/MyDrive/Colab Notebooks/X_datanew_10.json' # FILE LOAD PATH\n",
        "X = load(x_path)\n",
        "X = np.asarray(X, dtype = 'float32')\n",
        "\n",
        "y_path = '/content/drive/MyDrive/Colab Notebooks/Y_datanew_10.json' # FILE LOAD PATH\n",
        "Y = load(y_path)\n",
        "Y = np.asarray(Y, dtype = 'int8')"
      ],
      "metadata": {
        "id": "5bDTDqKrvM-H"
      },
      "execution_count": 13,
      "outputs": []
    },
    {
      "cell_type": "code",
      "source": [
        "# Split to train, validation, and test sets.\n",
        "from sklearn.model_selection import train_test_split\n",
        "x_train, x_tosplit, y_train, y_tosplit = train_test_split(X, Y, test_size = 0.125, random_state = 1)\n",
        "x_val, x_test, y_val, y_test = train_test_split(x_tosplit, y_tosplit, test_size = 0.304, random_state = 1)\n",
        "\n",
        "#'One-hot' vectors for Y: emotion classification\n",
        "y_train_class = tf.keras.utils.to_categorical(y_train, 8, dtype = 'int8')\n",
        "y_val_class = tf.keras.utils.to_categorical(y_val, 8, dtype = 'int8')"
      ],
      "metadata": {
        "id": "YKcpY6BbvOzj"
      },
      "execution_count": 14,
      "outputs": []
    },
    {
      "cell_type": "code",
      "source": [
        "# x_train, x_val, and x_test shape check.\n",
        "print(np.shape(x_train))\n",
        "print(np.shape(x_val))\n",
        "print(np.shape(x_test))"
      ],
      "metadata": {
        "colab": {
          "base_uri": "https://localhost:8080/"
        },
        "id": "vTIHgBpRvQgM",
        "outputId": "abc6f6b8-22cd-474f-9008-a7a8e96b4dd5"
      },
      "execution_count": 15,
      "outputs": [
        {
          "output_type": "stream",
          "name": "stdout",
          "text": [
            "(4130, 615, 15)\n",
            "(410, 615, 15)\n",
            "(180, 615, 15)\n"
          ]
        }
      ]
    },
    {
      "cell_type": "code",
      "source": [
        "# Save x_test, y_test to JSON.\n",
        "\n",
        "file_path = 'x_test_data.json'\n",
        "dump(obj = x_test, fp = file_path)\n",
        "\n",
        "file_path = 'y_test_data.json'\n",
        "dump(obj = y_test, fp = file_path)"
      ],
      "metadata": {
        "colab": {
          "base_uri": "https://localhost:8080/",
          "height": 147
        },
        "id": "ghHboeW4vSHu",
        "outputId": "a1ca4683-88ea-4018-a0dc-d6636b21442c"
      },
      "execution_count": 16,
      "outputs": [
        {
          "output_type": "execute_result",
          "data": {
            "text/plain": [
              "'{\"__ndarray__\": [[4], [4], [4], [5], [7], [3], [6], [3], [5], [4], [0], [7], [3], [4], [7], [3], [5], [2], [6], [4], [4], [5], [4], [5], [4], [5], [0], [4], [3], [7], [4], [7], [0], [4], [4], [5], [6], [4], [3], [4], [4], [4], [4], [0], [4], [1], [4], [3], [4], [0], [0], [2], [5], [4], [5], [2], [4], [7], [4], [4], [5], [4], [3], [4], [4], [4], [4], [0], [0], [2], [4], [5], [4], [2], [6], [7], [4], [4], [4], [5], [2], [3], [4], [4], [4], [5], [3], [4], [4], [3], [3], [5], [4], [5], [4], [4], [2], [4], [4], [6], [2], [2], [3], [2], [5], [5], [4], [0], [2], [3], [4], [3], [5], [7], [4], [0], [5], [4], [4], [2], [4], [4], [4], [4], [2], [4], [1], [4], [4], [0], [0], [0], [5], [4], [4], [7], [2], [4], [5], [4], [4], [5], [0], [7], [4], [2], [4], [4], [0], [4], [4], [4], [3], [4], [4], [6], [3], [6], [4], [5], [6], [1], [4], [6], [4], [6], [6], [4], [4], [3], [4], [4], [4], [4], [4], [4], [2], [4], [4], [1]], \"dtype\": \"int8\", \"shape\": [180, 1], \"Corder\": true}'"
            ],
            "application/vnd.google.colaboratory.intrinsic+json": {
              "type": "string"
            }
          },
          "metadata": {},
          "execution_count": 16
        }
      ]
    },
    {
      "cell_type": "code",
      "source": [
        "from keras.models import Sequential\n",
        "from keras import layers\n",
        "from keras import optimizers\n",
        "from keras import callbacks"
      ],
      "metadata": {
        "id": "NOxamosxvUTi"
      },
      "execution_count": 17,
      "outputs": []
    },
    {
      "cell_type": "code",
      "source": [
        "model = Sequential()\n",
        "model.add(layers.LSTM(64, return_sequences = True, input_shape=(X.shape[1:3])))\n",
        "model.add(layers.LSTM(64))\n",
        "model.add(layers.Dense(8, activation = 'softmax'))\n",
        "print(model.summary())\n",
        "\n",
        "batch_size = 23\n",
        "\n",
        "# Callbacks functions\n",
        "checkpoint_path = '/content/drive/MyDrive/Datathon/best_weights.hdf5'\n",
        "\n",
        "#-> Save the best weights\n",
        "mcp_save = callbacks.ModelCheckpoint(checkpoint_path, save_best_only=True,\n",
        "                           monitor='val_categorical_accuracy',\n",
        "                           mode='max')\n",
        "#-> Reduce learning rate after 100 epoches without improvement.\n",
        "rlrop = callbacks.ReduceLROnPlateau(monitor='val_categorical_accuracy',\n",
        "                                    factor=0.1, patience=100)\n",
        "\n",
        "# Compile & train\n",
        "model.compile(loss='categorical_crossentropy',\n",
        "                optimizer='RMSProp',\n",
        "                metrics=['categorical_accuracy'])\n",
        "\n",
        "history = model.fit(x_train, y_train_class,\n",
        "                      epochs=300, batch_size = batch_size,\n",
        "                      validation_data = (x_val, y_val_class),\n",
        "                      callbacks = [mcp_save, rlrop])\n",
        "# Define the best weights to the model.\n",
        "model.load_weights(checkpoint_path)"
      ],
      "metadata": {
        "colab": {
          "base_uri": "https://localhost:8080/"
        },
        "id": "-sUsCT1svVt_",
        "outputId": "4cb223af-6bd9-4c28-8280-59bd4e46067e"
      },
      "execution_count": 19,
      "outputs": [
        {
          "output_type": "stream",
          "name": "stdout",
          "text": [
            "Model: \"sequential_1\"\n",
            "_________________________________________________________________\n",
            " Layer (type)                Output Shape              Param #   \n",
            "=================================================================\n",
            " lstm_2 (LSTM)               (None, 615, 64)           20480     \n",
            "                                                                 \n",
            " lstm_3 (LSTM)               (None, 64)                33024     \n",
            "                                                                 \n",
            " dense_1 (Dense)             (None, 8)                 520       \n",
            "                                                                 \n",
            "=================================================================\n",
            "Total params: 54024 (211.03 KB)\n",
            "Trainable params: 54024 (211.03 KB)\n",
            "Non-trainable params: 0 (0.00 Byte)\n",
            "_________________________________________________________________\n",
            "None\n",
            "Epoch 1/300\n",
            "180/180 [==============================] - 12s 43ms/step - loss: 1.7674 - categorical_accuracy: 0.4242 - val_loss: 1.7334 - val_categorical_accuracy: 0.4488 - lr: 0.0010\n",
            "Epoch 2/300\n",
            "180/180 [==============================] - 8s 46ms/step - loss: 1.6394 - categorical_accuracy: 0.4276 - val_loss: 1.6394 - val_categorical_accuracy: 0.4244 - lr: 0.0010\n",
            "Epoch 3/300\n",
            "180/180 [==============================] - 6s 36ms/step - loss: 1.5906 - categorical_accuracy: 0.4274 - val_loss: 1.5877 - val_categorical_accuracy: 0.4512 - lr: 0.0010\n",
            "Epoch 4/300\n",
            "180/180 [==============================] - 9s 50ms/step - loss: 1.4841 - categorical_accuracy: 0.4634 - val_loss: 1.4377 - val_categorical_accuracy: 0.4829 - lr: 0.0010\n",
            "Epoch 5/300\n",
            "180/180 [==============================] - 6s 36ms/step - loss: 1.4260 - categorical_accuracy: 0.4741 - val_loss: 1.4261 - val_categorical_accuracy: 0.4780 - lr: 0.0010\n",
            "Epoch 6/300\n",
            "180/180 [==============================] - 8s 43ms/step - loss: 1.3839 - categorical_accuracy: 0.4855 - val_loss: 1.4531 - val_categorical_accuracy: 0.4585 - lr: 0.0010\n",
            "Epoch 7/300\n",
            "180/180 [==============================] - 9s 52ms/step - loss: 1.3566 - categorical_accuracy: 0.4915 - val_loss: 1.3417 - val_categorical_accuracy: 0.5073 - lr: 0.0010\n",
            "Epoch 8/300\n",
            "180/180 [==============================] - 7s 41ms/step - loss: 1.3481 - categorical_accuracy: 0.4874 - val_loss: 1.4126 - val_categorical_accuracy: 0.4610 - lr: 0.0010\n",
            "Epoch 9/300\n",
            "180/180 [==============================] - 8s 43ms/step - loss: 1.3301 - categorical_accuracy: 0.4976 - val_loss: 1.2886 - val_categorical_accuracy: 0.5317 - lr: 0.0010\n",
            "Epoch 10/300\n",
            "180/180 [==============================] - 6s 35ms/step - loss: 1.3037 - categorical_accuracy: 0.4981 - val_loss: 1.3525 - val_categorical_accuracy: 0.5220 - lr: 0.0010\n",
            "Epoch 11/300\n",
            "180/180 [==============================] - 11s 59ms/step - loss: 1.2818 - categorical_accuracy: 0.5007 - val_loss: 1.2779 - val_categorical_accuracy: 0.5171 - lr: 0.0010\n",
            "Epoch 12/300\n",
            "180/180 [==============================] - 9s 48ms/step - loss: 1.2850 - categorical_accuracy: 0.5090 - val_loss: 1.3423 - val_categorical_accuracy: 0.5244 - lr: 0.0010\n",
            "Epoch 13/300\n",
            "180/180 [==============================] - 8s 44ms/step - loss: 1.2691 - categorical_accuracy: 0.5085 - val_loss: 1.3659 - val_categorical_accuracy: 0.4805 - lr: 0.0010\n",
            "Epoch 14/300\n",
            "180/180 [==============================] - 8s 47ms/step - loss: 1.2373 - categorical_accuracy: 0.5332 - val_loss: 1.2736 - val_categorical_accuracy: 0.5171 - lr: 0.0010\n",
            "Epoch 15/300\n",
            "180/180 [==============================] - 11s 59ms/step - loss: 1.1523 - categorical_accuracy: 0.5579 - val_loss: 1.1229 - val_categorical_accuracy: 0.5561 - lr: 0.0010\n",
            "Epoch 16/300\n",
            "180/180 [==============================] - 9s 52ms/step - loss: 1.1138 - categorical_accuracy: 0.5794 - val_loss: 1.0415 - val_categorical_accuracy: 0.6146 - lr: 0.0010\n",
            "Epoch 17/300\n",
            "180/180 [==============================] - 10s 54ms/step - loss: 1.0740 - categorical_accuracy: 0.5973 - val_loss: 1.1715 - val_categorical_accuracy: 0.5854 - lr: 0.0010\n",
            "Epoch 18/300\n",
            "180/180 [==============================] - 7s 38ms/step - loss: 1.0465 - categorical_accuracy: 0.6153 - val_loss: 1.0830 - val_categorical_accuracy: 0.6171 - lr: 0.0010\n",
            "Epoch 19/300\n",
            "180/180 [==============================] - 8s 46ms/step - loss: 1.0149 - categorical_accuracy: 0.6373 - val_loss: 1.0177 - val_categorical_accuracy: 0.6000 - lr: 0.0010\n",
            "Epoch 20/300\n",
            "180/180 [==============================] - 6s 34ms/step - loss: 0.9781 - categorical_accuracy: 0.6375 - val_loss: 1.0833 - val_categorical_accuracy: 0.6122 - lr: 0.0010\n",
            "Epoch 21/300\n",
            "180/180 [==============================] - 9s 48ms/step - loss: 0.9922 - categorical_accuracy: 0.6433 - val_loss: 0.9665 - val_categorical_accuracy: 0.6463 - lr: 0.0010\n",
            "Epoch 22/300\n",
            "180/180 [==============================] - 6s 35ms/step - loss: 0.9670 - categorical_accuracy: 0.6472 - val_loss: 1.0335 - val_categorical_accuracy: 0.5854 - lr: 0.0010\n",
            "Epoch 23/300\n",
            "180/180 [==============================] - 8s 46ms/step - loss: 0.9544 - categorical_accuracy: 0.6605 - val_loss: 0.8703 - val_categorical_accuracy: 0.6610 - lr: 0.0010\n",
            "Epoch 24/300\n",
            "180/180 [==============================] - 7s 40ms/step - loss: 0.9518 - categorical_accuracy: 0.6513 - val_loss: 0.8825 - val_categorical_accuracy: 0.6463 - lr: 0.0010\n",
            "Epoch 25/300\n",
            "180/180 [==============================] - 7s 40ms/step - loss: 0.9299 - categorical_accuracy: 0.6644 - val_loss: 0.9627 - val_categorical_accuracy: 0.6561 - lr: 0.0010\n",
            "Epoch 26/300\n",
            "180/180 [==============================] - 9s 48ms/step - loss: 0.9027 - categorical_accuracy: 0.6709 - val_loss: 0.9074 - val_categorical_accuracy: 0.6634 - lr: 0.0010\n",
            "Epoch 27/300\n",
            "180/180 [==============================] - 6s 34ms/step - loss: 0.8924 - categorical_accuracy: 0.6702 - val_loss: 1.0871 - val_categorical_accuracy: 0.6390 - lr: 0.0010\n",
            "Epoch 28/300\n",
            "180/180 [==============================] - 9s 51ms/step - loss: 0.8540 - categorical_accuracy: 0.6867 - val_loss: 0.8183 - val_categorical_accuracy: 0.7049 - lr: 0.0010\n",
            "Epoch 29/300\n",
            "180/180 [==============================] - 6s 34ms/step - loss: 0.8459 - categorical_accuracy: 0.6886 - val_loss: 0.8219 - val_categorical_accuracy: 0.6951 - lr: 0.0010\n",
            "Epoch 30/300\n",
            "180/180 [==============================] - 8s 42ms/step - loss: 0.8247 - categorical_accuracy: 0.6939 - val_loss: 0.9262 - val_categorical_accuracy: 0.6537 - lr: 0.0010\n",
            "Epoch 31/300\n",
            "180/180 [==============================] - 8s 43ms/step - loss: 0.8329 - categorical_accuracy: 0.6869 - val_loss: 0.7848 - val_categorical_accuracy: 0.7244 - lr: 0.0010\n",
            "Epoch 32/300\n",
            "180/180 [==============================] - 7s 37ms/step - loss: 0.7969 - categorical_accuracy: 0.7063 - val_loss: 0.9435 - val_categorical_accuracy: 0.6317 - lr: 0.0010\n",
            "Epoch 33/300\n",
            "180/180 [==============================] - 8s 46ms/step - loss: 0.8101 - categorical_accuracy: 0.6884 - val_loss: 0.7509 - val_categorical_accuracy: 0.7122 - lr: 0.0010\n",
            "Epoch 34/300\n",
            "180/180 [==============================] - 6s 34ms/step - loss: 0.7801 - categorical_accuracy: 0.7000 - val_loss: 0.7973 - val_categorical_accuracy: 0.6927 - lr: 0.0010\n",
            "Epoch 35/300\n",
            "180/180 [==============================] - 9s 49ms/step - loss: 0.7825 - categorical_accuracy: 0.7019 - val_loss: 1.0058 - val_categorical_accuracy: 0.6561 - lr: 0.0010\n",
            "Epoch 36/300\n",
            "180/180 [==============================] - 9s 49ms/step - loss: 0.7946 - categorical_accuracy: 0.7010 - val_loss: 0.8225 - val_categorical_accuracy: 0.7000 - lr: 0.0010\n",
            "Epoch 37/300\n",
            "180/180 [==============================] - 8s 43ms/step - loss: 0.7893 - categorical_accuracy: 0.6993 - val_loss: 0.9383 - val_categorical_accuracy: 0.6634 - lr: 0.0010\n",
            "Epoch 38/300\n",
            "180/180 [==============================] - 8s 44ms/step - loss: 0.7515 - categorical_accuracy: 0.7172 - val_loss: 0.9389 - val_categorical_accuracy: 0.6683 - lr: 0.0010\n",
            "Epoch 39/300\n",
            "180/180 [==============================] - 7s 38ms/step - loss: 0.7588 - categorical_accuracy: 0.7199 - val_loss: 0.7752 - val_categorical_accuracy: 0.7000 - lr: 0.0010\n",
            "Epoch 40/300\n",
            "180/180 [==============================] - 8s 45ms/step - loss: 0.7555 - categorical_accuracy: 0.7123 - val_loss: 0.7398 - val_categorical_accuracy: 0.7098 - lr: 0.0010\n",
            "Epoch 41/300\n",
            "180/180 [==============================] - 6s 34ms/step - loss: 0.7569 - categorical_accuracy: 0.7116 - val_loss: 0.8075 - val_categorical_accuracy: 0.6683 - lr: 0.0010\n",
            "Epoch 42/300\n",
            "180/180 [==============================] - 9s 48ms/step - loss: 0.7500 - categorical_accuracy: 0.7109 - val_loss: 0.8324 - val_categorical_accuracy: 0.6951 - lr: 0.0010\n",
            "Epoch 43/300\n",
            "180/180 [==============================] - 6s 34ms/step - loss: 0.7528 - categorical_accuracy: 0.7077 - val_loss: 0.7448 - val_categorical_accuracy: 0.7000 - lr: 0.0010\n",
            "Epoch 44/300\n",
            "180/180 [==============================] - 7s 39ms/step - loss: 0.7299 - categorical_accuracy: 0.7186 - val_loss: 0.8003 - val_categorical_accuracy: 0.6780 - lr: 0.0010\n",
            "Epoch 45/300\n",
            "180/180 [==============================] - 8s 42ms/step - loss: 0.7358 - categorical_accuracy: 0.7199 - val_loss: 0.9462 - val_categorical_accuracy: 0.6707 - lr: 0.0010\n",
            "Epoch 46/300\n",
            "180/180 [==============================] - 6s 36ms/step - loss: 0.7171 - categorical_accuracy: 0.7201 - val_loss: 0.7434 - val_categorical_accuracy: 0.7390 - lr: 0.0010\n",
            "Epoch 47/300\n",
            "180/180 [==============================] - 9s 47ms/step - loss: 0.7041 - categorical_accuracy: 0.7368 - val_loss: 0.8131 - val_categorical_accuracy: 0.6976 - lr: 0.0010\n",
            "Epoch 48/300\n",
            "180/180 [==============================] - 6s 34ms/step - loss: 0.6981 - categorical_accuracy: 0.7470 - val_loss: 0.7310 - val_categorical_accuracy: 0.7146 - lr: 0.0010\n",
            "Epoch 49/300\n",
            "180/180 [==============================] - 8s 44ms/step - loss: 0.6984 - categorical_accuracy: 0.7460 - val_loss: 0.8634 - val_categorical_accuracy: 0.6659 - lr: 0.0010\n",
            "Epoch 50/300\n",
            "180/180 [==============================] - 7s 37ms/step - loss: 0.7110 - categorical_accuracy: 0.7327 - val_loss: 0.7505 - val_categorical_accuracy: 0.7073 - lr: 0.0010\n",
            "Epoch 51/300\n",
            "180/180 [==============================] - 7s 38ms/step - loss: 0.6987 - categorical_accuracy: 0.7426 - val_loss: 0.6874 - val_categorical_accuracy: 0.7659 - lr: 0.0010\n",
            "Epoch 52/300\n",
            "180/180 [==============================] - 8s 45ms/step - loss: 0.6922 - categorical_accuracy: 0.7436 - val_loss: 0.9156 - val_categorical_accuracy: 0.7073 - lr: 0.0010\n",
            "Epoch 53/300\n",
            "180/180 [==============================] - 6s 34ms/step - loss: 0.6867 - categorical_accuracy: 0.7542 - val_loss: 0.8434 - val_categorical_accuracy: 0.6585 - lr: 0.0010\n",
            "Epoch 54/300\n",
            "180/180 [==============================] - 9s 48ms/step - loss: 0.6635 - categorical_accuracy: 0.7644 - val_loss: 1.0201 - val_categorical_accuracy: 0.6537 - lr: 0.0010\n",
            "Epoch 55/300\n",
            "180/180 [==============================] - 7s 37ms/step - loss: 0.6770 - categorical_accuracy: 0.7535 - val_loss: 0.7306 - val_categorical_accuracy: 0.7317 - lr: 0.0010\n",
            "Epoch 56/300\n",
            "180/180 [==============================] - 10s 58ms/step - loss: 0.6518 - categorical_accuracy: 0.7613 - val_loss: 0.7065 - val_categorical_accuracy: 0.7439 - lr: 0.0010\n",
            "Epoch 57/300\n",
            "180/180 [==============================] - 7s 38ms/step - loss: 0.6708 - categorical_accuracy: 0.7508 - val_loss: 0.6923 - val_categorical_accuracy: 0.7220 - lr: 0.0010\n",
            "Epoch 58/300\n",
            "180/180 [==============================] - 6s 35ms/step - loss: 0.6659 - categorical_accuracy: 0.7576 - val_loss: 0.7441 - val_categorical_accuracy: 0.7610 - lr: 0.0010\n",
            "Epoch 59/300\n",
            "180/180 [==============================] - 8s 47ms/step - loss: 0.6584 - categorical_accuracy: 0.7659 - val_loss: 0.7142 - val_categorical_accuracy: 0.7317 - lr: 0.0010\n",
            "Epoch 60/300\n",
            "180/180 [==============================] - 6s 34ms/step - loss: 0.6578 - categorical_accuracy: 0.7613 - val_loss: 0.8752 - val_categorical_accuracy: 0.6951 - lr: 0.0010\n",
            "Epoch 61/300\n",
            "180/180 [==============================] - 8s 45ms/step - loss: 0.6361 - categorical_accuracy: 0.7680 - val_loss: 0.7306 - val_categorical_accuracy: 0.7146 - lr: 0.0010\n",
            "Epoch 62/300\n",
            "180/180 [==============================] - 7s 36ms/step - loss: 0.6425 - categorical_accuracy: 0.7663 - val_loss: 0.7387 - val_categorical_accuracy: 0.7537 - lr: 0.0010\n",
            "Epoch 63/300\n",
            "180/180 [==============================] - 7s 40ms/step - loss: 0.6188 - categorical_accuracy: 0.7806 - val_loss: 0.6765 - val_categorical_accuracy: 0.7683 - lr: 0.0010\n",
            "Epoch 64/300\n",
            "180/180 [==============================] - 8s 46ms/step - loss: 0.6366 - categorical_accuracy: 0.7668 - val_loss: 0.6901 - val_categorical_accuracy: 0.7756 - lr: 0.0010\n",
            "Epoch 65/300\n",
            "180/180 [==============================] - 6s 34ms/step - loss: 0.6113 - categorical_accuracy: 0.7872 - val_loss: 0.8033 - val_categorical_accuracy: 0.7244 - lr: 0.0010\n",
            "Epoch 66/300\n",
            "180/180 [==============================] - 8s 47ms/step - loss: 0.6345 - categorical_accuracy: 0.7719 - val_loss: 0.7280 - val_categorical_accuracy: 0.7707 - lr: 0.0010\n",
            "Epoch 67/300\n",
            "180/180 [==============================] - 6s 34ms/step - loss: 0.6266 - categorical_accuracy: 0.7763 - val_loss: 0.6870 - val_categorical_accuracy: 0.7756 - lr: 0.0010\n",
            "Epoch 68/300\n",
            "180/180 [==============================] - 7s 41ms/step - loss: 0.6558 - categorical_accuracy: 0.7634 - val_loss: 0.6254 - val_categorical_accuracy: 0.7707 - lr: 0.0010\n",
            "Epoch 69/300\n",
            "180/180 [==============================] - 7s 40ms/step - loss: 0.6073 - categorical_accuracy: 0.7833 - val_loss: 1.2131 - val_categorical_accuracy: 0.6268 - lr: 0.0010\n",
            "Epoch 70/300\n",
            "180/180 [==============================] - 6s 36ms/step - loss: 0.6199 - categorical_accuracy: 0.7755 - val_loss: 0.7771 - val_categorical_accuracy: 0.7244 - lr: 0.0010\n",
            "Epoch 71/300\n",
            "180/180 [==============================] - 9s 48ms/step - loss: 0.6164 - categorical_accuracy: 0.7828 - val_loss: 0.6086 - val_categorical_accuracy: 0.7976 - lr: 0.0010\n",
            "Epoch 72/300\n",
            "180/180 [==============================] - 6s 34ms/step - loss: 0.6097 - categorical_accuracy: 0.7777 - val_loss: 0.6234 - val_categorical_accuracy: 0.7927 - lr: 0.0010\n",
            "Epoch 73/300\n",
            "180/180 [==============================] - 8s 46ms/step - loss: 0.6081 - categorical_accuracy: 0.7845 - val_loss: 0.6219 - val_categorical_accuracy: 0.7829 - lr: 0.0010\n",
            "Epoch 74/300\n",
            "180/180 [==============================] - 6s 35ms/step - loss: 0.5857 - categorical_accuracy: 0.7939 - val_loss: 0.6666 - val_categorical_accuracy: 0.7610 - lr: 0.0010\n",
            "Epoch 75/300\n",
            "180/180 [==============================] - 7s 38ms/step - loss: 0.5708 - categorical_accuracy: 0.8005 - val_loss: 0.6959 - val_categorical_accuracy: 0.7976 - lr: 0.0010\n",
            "Epoch 76/300\n",
            "180/180 [==============================] - 11s 61ms/step - loss: 0.5788 - categorical_accuracy: 0.8024 - val_loss: 0.6526 - val_categorical_accuracy: 0.7732 - lr: 0.0010\n",
            "Epoch 77/300\n",
            "180/180 [==============================] - 6s 34ms/step - loss: 0.5746 - categorical_accuracy: 0.8002 - val_loss: 0.6035 - val_categorical_accuracy: 0.7976 - lr: 0.0010\n",
            "Epoch 78/300\n",
            "180/180 [==============================] - 9s 47ms/step - loss: 0.5789 - categorical_accuracy: 0.7966 - val_loss: 0.7079 - val_categorical_accuracy: 0.7927 - lr: 0.0010\n",
            "Epoch 79/300\n",
            "180/180 [==============================] - 6s 34ms/step - loss: 0.6021 - categorical_accuracy: 0.7949 - val_loss: 0.9208 - val_categorical_accuracy: 0.7049 - lr: 0.0010\n",
            "Epoch 80/300\n",
            "180/180 [==============================] - 7s 41ms/step - loss: 0.6060 - categorical_accuracy: 0.7787 - val_loss: 0.6854 - val_categorical_accuracy: 0.7537 - lr: 0.0010\n",
            "Epoch 81/300\n",
            "180/180 [==============================] - 8s 43ms/step - loss: 0.5641 - categorical_accuracy: 0.7978 - val_loss: 0.6175 - val_categorical_accuracy: 0.8195 - lr: 0.0010\n",
            "Epoch 82/300\n",
            "180/180 [==============================] - 6s 35ms/step - loss: 0.5553 - categorical_accuracy: 0.8097 - val_loss: 0.6064 - val_categorical_accuracy: 0.7854 - lr: 0.0010\n",
            "Epoch 83/300\n",
            "180/180 [==============================] - 8s 46ms/step - loss: 0.5468 - categorical_accuracy: 0.8116 - val_loss: 0.6359 - val_categorical_accuracy: 0.7878 - lr: 0.0010\n",
            "Epoch 84/300\n",
            "180/180 [==============================] - 6s 34ms/step - loss: 0.5386 - categorical_accuracy: 0.8148 - val_loss: 0.5830 - val_categorical_accuracy: 0.8122 - lr: 0.0010\n",
            "Epoch 85/300\n",
            "180/180 [==============================] - 8s 45ms/step - loss: 0.5558 - categorical_accuracy: 0.8031 - val_loss: 0.6728 - val_categorical_accuracy: 0.7878 - lr: 0.0010\n",
            "Epoch 86/300\n",
            "180/180 [==============================] - 7s 37ms/step - loss: 0.5874 - categorical_accuracy: 0.7833 - val_loss: 0.5791 - val_categorical_accuracy: 0.7951 - lr: 0.0010\n",
            "Epoch 87/300\n",
            "180/180 [==============================] - 7s 37ms/step - loss: 0.5698 - categorical_accuracy: 0.8002 - val_loss: 0.7232 - val_categorical_accuracy: 0.7561 - lr: 0.0010\n",
            "Epoch 88/300\n",
            "180/180 [==============================] - 8s 46ms/step - loss: 0.5473 - categorical_accuracy: 0.8048 - val_loss: 0.5107 - val_categorical_accuracy: 0.8512 - lr: 0.0010\n",
            "Epoch 89/300\n",
            "180/180 [==============================] - 6s 34ms/step - loss: 0.5363 - categorical_accuracy: 0.8167 - val_loss: 0.5643 - val_categorical_accuracy: 0.8171 - lr: 0.0010\n",
            "Epoch 90/300\n",
            "180/180 [==============================] - 8s 47ms/step - loss: 0.5552 - categorical_accuracy: 0.8058 - val_loss: 0.6202 - val_categorical_accuracy: 0.7854 - lr: 0.0010\n",
            "Epoch 91/300\n",
            "180/180 [==============================] - 6s 34ms/step - loss: 0.5675 - categorical_accuracy: 0.7927 - val_loss: 0.6360 - val_categorical_accuracy: 0.7732 - lr: 0.0010\n",
            "Epoch 92/300\n",
            "180/180 [==============================] - 7s 40ms/step - loss: 0.5533 - categorical_accuracy: 0.8044 - val_loss: 0.5913 - val_categorical_accuracy: 0.8073 - lr: 0.0010\n",
            "Epoch 93/300\n",
            "180/180 [==============================] - 8s 42ms/step - loss: 0.5471 - categorical_accuracy: 0.8056 - val_loss: 0.5617 - val_categorical_accuracy: 0.8073 - lr: 0.0010\n",
            "Epoch 94/300\n",
            "180/180 [==============================] - 6s 34ms/step - loss: 0.5633 - categorical_accuracy: 0.8068 - val_loss: 0.6128 - val_categorical_accuracy: 0.7976 - lr: 0.0010\n",
            "Epoch 95/300\n",
            "180/180 [==============================] - 8s 47ms/step - loss: 0.5284 - categorical_accuracy: 0.8199 - val_loss: 0.6217 - val_categorical_accuracy: 0.8000 - lr: 0.0010\n",
            "Epoch 96/300\n",
            "180/180 [==============================] - 9s 49ms/step - loss: 0.5391 - categorical_accuracy: 0.8092 - val_loss: 0.5673 - val_categorical_accuracy: 0.8000 - lr: 0.0010\n",
            "Epoch 97/300\n",
            "180/180 [==============================] - 9s 47ms/step - loss: 0.5390 - categorical_accuracy: 0.8138 - val_loss: 0.6530 - val_categorical_accuracy: 0.7829 - lr: 0.0010\n",
            "Epoch 98/300\n",
            "180/180 [==============================] - 6s 34ms/step - loss: 0.5180 - categorical_accuracy: 0.8186 - val_loss: 0.7700 - val_categorical_accuracy: 0.7780 - lr: 0.0010\n",
            "Epoch 99/300\n",
            "180/180 [==============================] - 7s 41ms/step - loss: 0.5205 - categorical_accuracy: 0.8245 - val_loss: 0.6788 - val_categorical_accuracy: 0.7902 - lr: 0.0010\n",
            "Epoch 100/300\n",
            "180/180 [==============================] - 7s 40ms/step - loss: 0.5168 - categorical_accuracy: 0.8201 - val_loss: 0.5237 - val_categorical_accuracy: 0.8195 - lr: 0.0010\n",
            "Epoch 101/300\n",
            "180/180 [==============================] - 6s 34ms/step - loss: 0.5361 - categorical_accuracy: 0.8128 - val_loss: 0.4997 - val_categorical_accuracy: 0.8171 - lr: 0.0010\n",
            "Epoch 102/300\n",
            "180/180 [==============================] - 8s 47ms/step - loss: 0.5272 - categorical_accuracy: 0.8162 - val_loss: 0.6043 - val_categorical_accuracy: 0.7829 - lr: 0.0010\n",
            "Epoch 103/300\n",
            "180/180 [==============================] - 6s 34ms/step - loss: 0.5338 - categorical_accuracy: 0.8133 - val_loss: 0.5649 - val_categorical_accuracy: 0.8122 - lr: 0.0010\n",
            "Epoch 104/300\n",
            "180/180 [==============================] - 8s 43ms/step - loss: 0.5223 - categorical_accuracy: 0.8140 - val_loss: 0.6419 - val_categorical_accuracy: 0.7805 - lr: 0.0010\n",
            "Epoch 105/300\n",
            "180/180 [==============================] - 7s 39ms/step - loss: 0.5082 - categorical_accuracy: 0.8228 - val_loss: 0.5413 - val_categorical_accuracy: 0.8268 - lr: 0.0010\n",
            "Epoch 106/300\n",
            "180/180 [==============================] - 6s 35ms/step - loss: 0.5248 - categorical_accuracy: 0.8232 - val_loss: 0.5694 - val_categorical_accuracy: 0.8073 - lr: 0.0010\n",
            "Epoch 107/300\n",
            "180/180 [==============================] - 8s 46ms/step - loss: 0.7690 - categorical_accuracy: 0.7482 - val_loss: 1.5530 - val_categorical_accuracy: 0.4829 - lr: 0.0010\n",
            "Epoch 108/300\n",
            "180/180 [==============================] - 6s 34ms/step - loss: 0.7537 - categorical_accuracy: 0.7264 - val_loss: 0.6438 - val_categorical_accuracy: 0.7854 - lr: 0.0010\n",
            "Epoch 109/300\n",
            "180/180 [==============================] - 8s 45ms/step - loss: 1.0049 - categorical_accuracy: 0.6785 - val_loss: 0.7860 - val_categorical_accuracy: 0.6854 - lr: 0.0010\n",
            "Epoch 110/300\n",
            "180/180 [==============================] - 7s 37ms/step - loss: 0.7669 - categorical_accuracy: 0.7324 - val_loss: 0.6886 - val_categorical_accuracy: 0.7415 - lr: 0.0010\n",
            "Epoch 111/300\n",
            "180/180 [==============================] - 7s 38ms/step - loss: 0.6456 - categorical_accuracy: 0.7642 - val_loss: 0.6165 - val_categorical_accuracy: 0.7634 - lr: 0.0010\n",
            "Epoch 112/300\n",
            "180/180 [==============================] - 8s 44ms/step - loss: 0.5976 - categorical_accuracy: 0.8019 - val_loss: 0.7405 - val_categorical_accuracy: 0.7902 - lr: 0.0010\n",
            "Epoch 113/300\n",
            "180/180 [==============================] - 6s 34ms/step - loss: 0.7680 - categorical_accuracy: 0.7426 - val_loss: 0.7534 - val_categorical_accuracy: 0.7244 - lr: 0.0010\n",
            "Epoch 114/300\n",
            "180/180 [==============================] - 9s 48ms/step - loss: 0.6752 - categorical_accuracy: 0.7632 - val_loss: 0.6558 - val_categorical_accuracy: 0.7707 - lr: 0.0010\n",
            "Epoch 115/300\n",
            "180/180 [==============================] - 6s 34ms/step - loss: 0.5628 - categorical_accuracy: 0.8022 - val_loss: 0.6195 - val_categorical_accuracy: 0.8000 - lr: 0.0010\n",
            "Epoch 116/300\n",
            "180/180 [==============================] - 7s 39ms/step - loss: 0.6561 - categorical_accuracy: 0.7705 - val_loss: 0.7705 - val_categorical_accuracy: 0.7561 - lr: 0.0010\n",
            "Epoch 117/300\n",
            "180/180 [==============================] - 11s 61ms/step - loss: 0.5989 - categorical_accuracy: 0.7985 - val_loss: 0.9079 - val_categorical_accuracy: 0.7268 - lr: 0.0010\n",
            "Epoch 118/300\n",
            "180/180 [==============================] - 6s 34ms/step - loss: 0.6080 - categorical_accuracy: 0.7988 - val_loss: 0.5059 - val_categorical_accuracy: 0.8195 - lr: 0.0010\n",
            "Epoch 119/300\n",
            "180/180 [==============================] - 9s 48ms/step - loss: 0.5746 - categorical_accuracy: 0.7966 - val_loss: 0.5455 - val_categorical_accuracy: 0.8244 - lr: 0.0010\n",
            "Epoch 120/300\n",
            "180/180 [==============================] - 6s 34ms/step - loss: 0.5427 - categorical_accuracy: 0.8126 - val_loss: 0.5821 - val_categorical_accuracy: 0.8024 - lr: 0.0010\n",
            "Epoch 121/300\n",
            "180/180 [==============================] - 7s 39ms/step - loss: 0.5275 - categorical_accuracy: 0.8218 - val_loss: 0.6622 - val_categorical_accuracy: 0.7659 - lr: 0.0010\n",
            "Epoch 122/300\n",
            "180/180 [==============================] - 8s 43ms/step - loss: 0.5317 - categorical_accuracy: 0.8213 - val_loss: 0.4950 - val_categorical_accuracy: 0.8415 - lr: 0.0010\n",
            "Epoch 123/300\n",
            "180/180 [==============================] - 6s 34ms/step - loss: 0.4944 - categorical_accuracy: 0.8305 - val_loss: 0.5673 - val_categorical_accuracy: 0.8244 - lr: 0.0010\n",
            "Epoch 124/300\n",
            "180/180 [==============================] - 9s 48ms/step - loss: 0.5057 - categorical_accuracy: 0.8259 - val_loss: 0.6068 - val_categorical_accuracy: 0.7927 - lr: 0.0010\n",
            "Epoch 125/300\n",
            "180/180 [==============================] - 6s 34ms/step - loss: 0.4993 - categorical_accuracy: 0.8329 - val_loss: 0.5562 - val_categorical_accuracy: 0.8122 - lr: 0.0010\n",
            "Epoch 126/300\n",
            "180/180 [==============================] - 8s 42ms/step - loss: 0.5134 - categorical_accuracy: 0.8283 - val_loss: 0.5566 - val_categorical_accuracy: 0.8195 - lr: 0.0010\n",
            "Epoch 127/300\n",
            "180/180 [==============================] - 7s 40ms/step - loss: 0.5352 - categorical_accuracy: 0.8276 - val_loss: 0.7717 - val_categorical_accuracy: 0.7488 - lr: 0.0010\n",
            "Epoch 128/300\n",
            "180/180 [==============================] - 6s 34ms/step - loss: 0.5131 - categorical_accuracy: 0.8283 - val_loss: 0.5265 - val_categorical_accuracy: 0.8024 - lr: 0.0010\n",
            "Epoch 129/300\n",
            "180/180 [==============================] - 8s 47ms/step - loss: 0.4815 - categorical_accuracy: 0.8351 - val_loss: 0.5860 - val_categorical_accuracy: 0.8122 - lr: 0.0010\n",
            "Epoch 130/300\n",
            "180/180 [==============================] - 6s 34ms/step - loss: 0.5024 - categorical_accuracy: 0.8351 - val_loss: 0.5976 - val_categorical_accuracy: 0.8098 - lr: 0.0010\n",
            "Epoch 131/300\n",
            "180/180 [==============================] - 8s 45ms/step - loss: 0.5022 - categorical_accuracy: 0.8259 - val_loss: 0.5665 - val_categorical_accuracy: 0.8317 - lr: 0.0010\n",
            "Epoch 132/300\n",
            "180/180 [==============================] - 7s 38ms/step - loss: 0.5093 - categorical_accuracy: 0.8281 - val_loss: 0.5731 - val_categorical_accuracy: 0.8073 - lr: 0.0010\n",
            "Epoch 133/300\n",
            "180/180 [==============================] - 6s 36ms/step - loss: 0.5270 - categorical_accuracy: 0.8230 - val_loss: 0.9571 - val_categorical_accuracy: 0.7000 - lr: 0.0010\n",
            "Epoch 134/300\n",
            "180/180 [==============================] - 8s 46ms/step - loss: 0.6557 - categorical_accuracy: 0.7743 - val_loss: 0.6519 - val_categorical_accuracy: 0.7829 - lr: 0.0010\n",
            "Epoch 135/300\n",
            "180/180 [==============================] - 6s 34ms/step - loss: 0.5682 - categorical_accuracy: 0.8075 - val_loss: 0.6624 - val_categorical_accuracy: 0.7976 - lr: 0.0010\n",
            "Epoch 136/300\n",
            "180/180 [==============================] - 8s 46ms/step - loss: 0.5268 - categorical_accuracy: 0.8189 - val_loss: 0.6456 - val_categorical_accuracy: 0.8098 - lr: 0.0010\n",
            "Epoch 137/300\n",
            "180/180 [==============================] - 9s 47ms/step - loss: 0.5052 - categorical_accuracy: 0.8274 - val_loss: 0.4847 - val_categorical_accuracy: 0.8415 - lr: 0.0010\n",
            "Epoch 138/300\n",
            "180/180 [==============================] - 9s 49ms/step - loss: 0.5659 - categorical_accuracy: 0.8068 - val_loss: 0.5639 - val_categorical_accuracy: 0.8341 - lr: 0.0010\n",
            "Epoch 139/300\n",
            "180/180 [==============================] - 6s 35ms/step - loss: 0.5365 - categorical_accuracy: 0.8230 - val_loss: 0.6252 - val_categorical_accuracy: 0.7927 - lr: 0.0010\n",
            "Epoch 140/300\n",
            "180/180 [==============================] - 7s 38ms/step - loss: 0.5671 - categorical_accuracy: 0.8184 - val_loss: 0.6093 - val_categorical_accuracy: 0.8098 - lr: 0.0010\n",
            "Epoch 141/300\n",
            "180/180 [==============================] - 8s 44ms/step - loss: 0.5187 - categorical_accuracy: 0.8293 - val_loss: 0.5408 - val_categorical_accuracy: 0.8341 - lr: 0.0010\n",
            "Epoch 142/300\n",
            "180/180 [==============================] - 6s 34ms/step - loss: 0.5107 - categorical_accuracy: 0.8315 - val_loss: 0.5971 - val_categorical_accuracy: 0.8122 - lr: 0.0010\n",
            "Epoch 143/300\n",
            "180/180 [==============================] - 8s 47ms/step - loss: 0.5894 - categorical_accuracy: 0.8073 - val_loss: 0.6755 - val_categorical_accuracy: 0.7805 - lr: 0.0010\n",
            "Epoch 144/300\n",
            "180/180 [==============================] - 6s 35ms/step - loss: 0.5143 - categorical_accuracy: 0.8271 - val_loss: 0.6902 - val_categorical_accuracy: 0.7780 - lr: 0.0010\n",
            "Epoch 145/300\n",
            "180/180 [==============================] - 7s 41ms/step - loss: 0.4954 - categorical_accuracy: 0.8346 - val_loss: 0.5627 - val_categorical_accuracy: 0.8122 - lr: 0.0010\n",
            "Epoch 146/300\n",
            "180/180 [==============================] - 8s 43ms/step - loss: 0.4995 - categorical_accuracy: 0.8310 - val_loss: 0.5636 - val_categorical_accuracy: 0.8220 - lr: 0.0010\n",
            "Epoch 147/300\n",
            "180/180 [==============================] - 6s 35ms/step - loss: 0.4840 - categorical_accuracy: 0.8354 - val_loss: 0.5990 - val_categorical_accuracy: 0.8122 - lr: 0.0010\n",
            "Epoch 148/300\n",
            "180/180 [==============================] - 9s 49ms/step - loss: 0.4596 - categorical_accuracy: 0.8443 - val_loss: 0.5889 - val_categorical_accuracy: 0.8122 - lr: 0.0010\n",
            "Epoch 149/300\n",
            "180/180 [==============================] - 6s 35ms/step - loss: 0.4766 - categorical_accuracy: 0.8392 - val_loss: 0.6119 - val_categorical_accuracy: 0.8146 - lr: 0.0010\n",
            "Epoch 150/300\n",
            "180/180 [==============================] - 8s 43ms/step - loss: 0.4958 - categorical_accuracy: 0.8281 - val_loss: 0.6101 - val_categorical_accuracy: 0.7683 - lr: 0.0010\n",
            "Epoch 151/300\n",
            "180/180 [==============================] - 7s 38ms/step - loss: 0.4908 - categorical_accuracy: 0.8368 - val_loss: 0.5713 - val_categorical_accuracy: 0.8268 - lr: 0.0010\n",
            "Epoch 152/300\n",
            "180/180 [==============================] - 6s 35ms/step - loss: 0.4887 - categorical_accuracy: 0.8361 - val_loss: 0.6172 - val_categorical_accuracy: 0.8000 - lr: 0.0010\n",
            "Epoch 153/300\n",
            "180/180 [==============================] - 8s 46ms/step - loss: 0.4813 - categorical_accuracy: 0.8358 - val_loss: 0.6313 - val_categorical_accuracy: 0.7805 - lr: 0.0010\n",
            "Epoch 154/300\n",
            "180/180 [==============================] - 6s 34ms/step - loss: 0.4916 - categorical_accuracy: 0.8354 - val_loss: 0.6298 - val_categorical_accuracy: 0.8000 - lr: 0.0010\n",
            "Epoch 155/300\n",
            "180/180 [==============================] - 8s 45ms/step - loss: 0.4619 - categorical_accuracy: 0.8482 - val_loss: 0.6206 - val_categorical_accuracy: 0.8122 - lr: 0.0010\n",
            "Epoch 156/300\n",
            "180/180 [==============================] - 7s 38ms/step - loss: 0.5077 - categorical_accuracy: 0.8358 - val_loss: 0.6978 - val_categorical_accuracy: 0.7585 - lr: 0.0010\n",
            "Epoch 157/300\n",
            "180/180 [==============================] - 7s 41ms/step - loss: 0.4806 - categorical_accuracy: 0.8375 - val_loss: 0.5510 - val_categorical_accuracy: 0.8244 - lr: 0.0010\n",
            "Epoch 158/300\n",
            "180/180 [==============================] - 12s 64ms/step - loss: 0.4860 - categorical_accuracy: 0.8450 - val_loss: 0.6747 - val_categorical_accuracy: 0.7951 - lr: 0.0010\n",
            "Epoch 159/300\n",
            "180/180 [==============================] - 6s 35ms/step - loss: 0.5002 - categorical_accuracy: 0.8305 - val_loss: 0.7269 - val_categorical_accuracy: 0.8000 - lr: 0.0010\n",
            "Epoch 160/300\n",
            "180/180 [==============================] - 8s 44ms/step - loss: 0.5694 - categorical_accuracy: 0.8068 - val_loss: 0.6906 - val_categorical_accuracy: 0.7854 - lr: 0.0010\n",
            "Epoch 161/300\n",
            "180/180 [==============================] - 7s 40ms/step - loss: 0.5420 - categorical_accuracy: 0.8199 - val_loss: 0.7073 - val_categorical_accuracy: 0.7829 - lr: 0.0010\n",
            "Epoch 162/300\n",
            "180/180 [==============================] - 7s 38ms/step - loss: 0.5305 - categorical_accuracy: 0.8269 - val_loss: 0.6154 - val_categorical_accuracy: 0.8000 - lr: 0.0010\n",
            "Epoch 163/300\n",
            "180/180 [==============================] - 8s 46ms/step - loss: 0.5181 - categorical_accuracy: 0.8283 - val_loss: 0.6849 - val_categorical_accuracy: 0.7854 - lr: 0.0010\n",
            "Epoch 164/300\n",
            "180/180 [==============================] - 6s 34ms/step - loss: 0.4782 - categorical_accuracy: 0.8361 - val_loss: 0.6397 - val_categorical_accuracy: 0.7805 - lr: 0.0010\n",
            "Epoch 165/300\n",
            "180/180 [==============================] - 8s 47ms/step - loss: 0.4988 - categorical_accuracy: 0.8344 - val_loss: 0.6127 - val_categorical_accuracy: 0.8098 - lr: 0.0010\n",
            "Epoch 166/300\n",
            "180/180 [==============================] - 6s 35ms/step - loss: 0.4906 - categorical_accuracy: 0.8378 - val_loss: 0.5201 - val_categorical_accuracy: 0.8439 - lr: 0.0010\n",
            "Epoch 167/300\n",
            "180/180 [==============================] - 7s 37ms/step - loss: 0.4584 - categorical_accuracy: 0.8443 - val_loss: 0.5698 - val_categorical_accuracy: 0.8244 - lr: 0.0010\n",
            "Epoch 168/300\n",
            "180/180 [==============================] - 8s 45ms/step - loss: 0.4518 - categorical_accuracy: 0.8521 - val_loss: 0.5091 - val_categorical_accuracy: 0.8317 - lr: 0.0010\n",
            "Epoch 169/300\n",
            "180/180 [==============================] - 6s 34ms/step - loss: 0.4692 - categorical_accuracy: 0.8431 - val_loss: 0.4994 - val_categorical_accuracy: 0.8415 - lr: 0.0010\n",
            "Epoch 170/300\n",
            "180/180 [==============================] - 9s 49ms/step - loss: 0.4582 - categorical_accuracy: 0.8484 - val_loss: 0.4917 - val_categorical_accuracy: 0.8220 - lr: 0.0010\n",
            "Epoch 171/300\n",
            "180/180 [==============================] - 6s 34ms/step - loss: 0.4591 - categorical_accuracy: 0.8494 - val_loss: 0.5480 - val_categorical_accuracy: 0.8195 - lr: 0.0010\n",
            "Epoch 172/300\n",
            "180/180 [==============================] - 7s 41ms/step - loss: 0.4482 - categorical_accuracy: 0.8431 - val_loss: 0.5208 - val_categorical_accuracy: 0.8293 - lr: 0.0010\n",
            "Epoch 173/300\n",
            "180/180 [==============================] - 8s 42ms/step - loss: 0.4559 - categorical_accuracy: 0.8530 - val_loss: 0.4896 - val_categorical_accuracy: 0.8415 - lr: 0.0010\n",
            "Epoch 174/300\n",
            "180/180 [==============================] - 6s 35ms/step - loss: 0.4410 - categorical_accuracy: 0.8501 - val_loss: 0.5069 - val_categorical_accuracy: 0.8390 - lr: 0.0010\n",
            "Epoch 175/300\n",
            "180/180 [==============================] - 9s 48ms/step - loss: 0.4495 - categorical_accuracy: 0.8562 - val_loss: 0.5571 - val_categorical_accuracy: 0.8195 - lr: 0.0010\n",
            "Epoch 176/300\n",
            "180/180 [==============================] - 6s 34ms/step - loss: 0.4355 - categorical_accuracy: 0.8557 - val_loss: 0.4889 - val_categorical_accuracy: 0.8293 - lr: 0.0010\n",
            "Epoch 177/300\n",
            "180/180 [==============================] - 8s 44ms/step - loss: 0.4579 - categorical_accuracy: 0.8383 - val_loss: 0.5740 - val_categorical_accuracy: 0.7951 - lr: 0.0010\n",
            "Epoch 178/300\n",
            "180/180 [==============================] - 10s 56ms/step - loss: 0.5167 - categorical_accuracy: 0.8157 - val_loss: 0.5554 - val_categorical_accuracy: 0.8268 - lr: 0.0010\n",
            "Epoch 179/300\n",
            "180/180 [==============================] - 7s 38ms/step - loss: 0.4908 - categorical_accuracy: 0.8281 - val_loss: 0.5065 - val_categorical_accuracy: 0.8195 - lr: 0.0010\n",
            "Epoch 180/300\n",
            "180/180 [==============================] - 8s 45ms/step - loss: 0.4613 - categorical_accuracy: 0.8487 - val_loss: 0.4773 - val_categorical_accuracy: 0.8439 - lr: 0.0010\n",
            "Epoch 181/300\n",
            "180/180 [==============================] - 6s 34ms/step - loss: 0.4470 - categorical_accuracy: 0.8516 - val_loss: 0.5880 - val_categorical_accuracy: 0.8122 - lr: 0.0010\n",
            "Epoch 182/300\n",
            "180/180 [==============================] - 8s 47ms/step - loss: 0.4519 - categorical_accuracy: 0.8482 - val_loss: 0.5754 - val_categorical_accuracy: 0.8171 - lr: 0.0010\n",
            "Epoch 183/300\n",
            "180/180 [==============================] - 6s 35ms/step - loss: 0.4533 - categorical_accuracy: 0.8438 - val_loss: 0.4803 - val_categorical_accuracy: 0.8366 - lr: 0.0010\n",
            "Epoch 184/300\n",
            "180/180 [==============================] - 7s 40ms/step - loss: 0.4451 - categorical_accuracy: 0.8475 - val_loss: 0.5025 - val_categorical_accuracy: 0.8439 - lr: 0.0010\n",
            "Epoch 185/300\n",
            "180/180 [==============================] - 8s 45ms/step - loss: 0.4414 - categorical_accuracy: 0.8479 - val_loss: 0.5445 - val_categorical_accuracy: 0.8317 - lr: 0.0010\n",
            "Epoch 186/300\n",
            "180/180 [==============================] - 6s 35ms/step - loss: 0.4840 - categorical_accuracy: 0.8363 - val_loss: 0.5027 - val_categorical_accuracy: 0.8415 - lr: 0.0010\n",
            "Epoch 187/300\n",
            "180/180 [==============================] - 9s 49ms/step - loss: 0.4750 - categorical_accuracy: 0.8397 - val_loss: 0.6339 - val_categorical_accuracy: 0.7854 - lr: 0.0010\n",
            "Epoch 188/300\n",
            "180/180 [==============================] - 6s 35ms/step - loss: 0.4443 - categorical_accuracy: 0.8511 - val_loss: 0.4588 - val_categorical_accuracy: 0.8488 - lr: 0.0010\n",
            "Epoch 189/300\n",
            "180/180 [==============================] - 8s 46ms/step - loss: 0.3602 - categorical_accuracy: 0.8787 - val_loss: 0.4117 - val_categorical_accuracy: 0.8634 - lr: 1.0000e-04\n",
            "Epoch 190/300\n",
            "180/180 [==============================] - 7s 40ms/step - loss: 0.3341 - categorical_accuracy: 0.8850 - val_loss: 0.4462 - val_categorical_accuracy: 0.8561 - lr: 1.0000e-04\n",
            "Epoch 191/300\n",
            "180/180 [==============================] - 7s 40ms/step - loss: 0.3262 - categorical_accuracy: 0.8867 - val_loss: 0.4264 - val_categorical_accuracy: 0.8707 - lr: 1.0000e-04\n",
            "Epoch 192/300\n",
            "180/180 [==============================] - 8s 45ms/step - loss: 0.3208 - categorical_accuracy: 0.8850 - val_loss: 0.4162 - val_categorical_accuracy: 0.8707 - lr: 1.0000e-04\n",
            "Epoch 193/300\n",
            "180/180 [==============================] - 6s 34ms/step - loss: 0.3133 - categorical_accuracy: 0.8913 - val_loss: 0.4274 - val_categorical_accuracy: 0.8707 - lr: 1.0000e-04\n",
            "Epoch 194/300\n",
            "180/180 [==============================] - 9s 50ms/step - loss: 0.3088 - categorical_accuracy: 0.8910 - val_loss: 0.4048 - val_categorical_accuracy: 0.8780 - lr: 1.0000e-04\n",
            "Epoch 195/300\n",
            "180/180 [==============================] - 6s 35ms/step - loss: 0.3109 - categorical_accuracy: 0.8891 - val_loss: 0.3956 - val_categorical_accuracy: 0.8805 - lr: 1.0000e-04\n",
            "Epoch 196/300\n",
            "180/180 [==============================] - 8s 42ms/step - loss: 0.3082 - categorical_accuracy: 0.8903 - val_loss: 0.4060 - val_categorical_accuracy: 0.8829 - lr: 1.0000e-04\n",
            "Epoch 197/300\n",
            "180/180 [==============================] - 8s 42ms/step - loss: 0.3080 - categorical_accuracy: 0.8978 - val_loss: 0.4087 - val_categorical_accuracy: 0.8780 - lr: 1.0000e-04\n",
            "Epoch 198/300\n",
            "180/180 [==============================] - 9s 52ms/step - loss: 0.3130 - categorical_accuracy: 0.8906 - val_loss: 0.4147 - val_categorical_accuracy: 0.8780 - lr: 1.0000e-04\n",
            "Epoch 199/300\n",
            "180/180 [==============================] - 9s 48ms/step - loss: 0.2980 - categorical_accuracy: 0.8954 - val_loss: 0.3710 - val_categorical_accuracy: 0.8976 - lr: 1.0000e-04\n",
            "Epoch 200/300\n",
            "180/180 [==============================] - 6s 35ms/step - loss: 0.2994 - categorical_accuracy: 0.8932 - val_loss: 0.3819 - val_categorical_accuracy: 0.8878 - lr: 1.0000e-04\n",
            "Epoch 201/300\n",
            "180/180 [==============================] - 9s 49ms/step - loss: 0.2956 - categorical_accuracy: 0.8932 - val_loss: 0.3995 - val_categorical_accuracy: 0.8756 - lr: 1.0000e-04\n",
            "Epoch 202/300\n",
            "180/180 [==============================] - 6s 35ms/step - loss: 0.2945 - categorical_accuracy: 0.8961 - val_loss: 0.3922 - val_categorical_accuracy: 0.8878 - lr: 1.0000e-04\n",
            "Epoch 203/300\n",
            "180/180 [==============================] - 7s 40ms/step - loss: 0.2955 - categorical_accuracy: 0.8969 - val_loss: 0.4166 - val_categorical_accuracy: 0.8756 - lr: 1.0000e-04\n",
            "Epoch 204/300\n",
            "180/180 [==============================] - 8s 43ms/step - loss: 0.2974 - categorical_accuracy: 0.8978 - val_loss: 0.3909 - val_categorical_accuracy: 0.8854 - lr: 1.0000e-04\n",
            "Epoch 205/300\n",
            "180/180 [==============================] - 6s 35ms/step - loss: 0.2927 - categorical_accuracy: 0.8971 - val_loss: 0.4157 - val_categorical_accuracy: 0.8780 - lr: 1.0000e-04\n",
            "Epoch 206/300\n",
            "180/180 [==============================] - 9s 49ms/step - loss: 0.2919 - categorical_accuracy: 0.8990 - val_loss: 0.4115 - val_categorical_accuracy: 0.8854 - lr: 1.0000e-04\n",
            "Epoch 207/300\n",
            "180/180 [==============================] - 6s 34ms/step - loss: 0.2855 - categorical_accuracy: 0.8952 - val_loss: 0.4002 - val_categorical_accuracy: 0.8927 - lr: 1.0000e-04\n",
            "Epoch 208/300\n",
            "180/180 [==============================] - 7s 42ms/step - loss: 0.2835 - categorical_accuracy: 0.8985 - val_loss: 0.4073 - val_categorical_accuracy: 0.8854 - lr: 1.0000e-04\n",
            "Epoch 209/300\n",
            "180/180 [==============================] - 7s 41ms/step - loss: 0.2876 - categorical_accuracy: 0.8952 - val_loss: 0.4230 - val_categorical_accuracy: 0.8780 - lr: 1.0000e-04\n",
            "Epoch 210/300\n",
            "180/180 [==============================] - 6s 35ms/step - loss: 0.2855 - categorical_accuracy: 0.8983 - val_loss: 0.4092 - val_categorical_accuracy: 0.8902 - lr: 1.0000e-04\n",
            "Epoch 211/300\n",
            "180/180 [==============================] - 9s 48ms/step - loss: 0.2879 - categorical_accuracy: 0.8995 - val_loss: 0.4178 - val_categorical_accuracy: 0.8854 - lr: 1.0000e-04\n",
            "Epoch 212/300\n",
            "180/180 [==============================] - 6s 34ms/step - loss: 0.2822 - categorical_accuracy: 0.9007 - val_loss: 0.4195 - val_categorical_accuracy: 0.8805 - lr: 1.0000e-04\n",
            "Epoch 213/300\n",
            "180/180 [==============================] - 8s 44ms/step - loss: 0.2757 - categorical_accuracy: 0.9027 - val_loss: 0.4053 - val_categorical_accuracy: 0.8927 - lr: 1.0000e-04\n",
            "Epoch 214/300\n",
            "180/180 [==============================] - 7s 39ms/step - loss: 0.2810 - categorical_accuracy: 0.9022 - val_loss: 0.4565 - val_categorical_accuracy: 0.8756 - lr: 1.0000e-04\n",
            "Epoch 215/300\n",
            "180/180 [==============================] - 6s 36ms/step - loss: 0.2802 - categorical_accuracy: 0.9015 - val_loss: 0.4123 - val_categorical_accuracy: 0.8780 - lr: 1.0000e-04\n",
            "Epoch 216/300\n",
            "180/180 [==============================] - 9s 47ms/step - loss: 0.2860 - categorical_accuracy: 0.8985 - val_loss: 0.4432 - val_categorical_accuracy: 0.8756 - lr: 1.0000e-04\n",
            "Epoch 217/300\n",
            "180/180 [==============================] - 6s 34ms/step - loss: 0.2782 - categorical_accuracy: 0.9031 - val_loss: 0.4370 - val_categorical_accuracy: 0.8732 - lr: 1.0000e-04\n",
            "Epoch 218/300\n",
            "180/180 [==============================] - 9s 50ms/step - loss: 0.2738 - categorical_accuracy: 0.9039 - val_loss: 0.4058 - val_categorical_accuracy: 0.8854 - lr: 1.0000e-04\n",
            "Epoch 219/300\n",
            "180/180 [==============================] - 10s 53ms/step - loss: 0.2755 - categorical_accuracy: 0.9022 - val_loss: 0.4524 - val_categorical_accuracy: 0.8659 - lr: 1.0000e-04\n",
            "Epoch 220/300\n",
            "180/180 [==============================] - 6s 34ms/step - loss: 0.2749 - categorical_accuracy: 0.9022 - val_loss: 0.4403 - val_categorical_accuracy: 0.8683 - lr: 1.0000e-04\n",
            "Epoch 221/300\n",
            "180/180 [==============================] - 9s 49ms/step - loss: 0.2724 - categorical_accuracy: 0.9024 - val_loss: 0.4360 - val_categorical_accuracy: 0.8829 - lr: 1.0000e-04\n",
            "Epoch 222/300\n",
            "180/180 [==============================] - 6s 34ms/step - loss: 0.2709 - categorical_accuracy: 0.9036 - val_loss: 0.4322 - val_categorical_accuracy: 0.8854 - lr: 1.0000e-04\n",
            "Epoch 223/300\n",
            "180/180 [==============================] - 7s 39ms/step - loss: 0.2715 - categorical_accuracy: 0.9053 - val_loss: 0.4527 - val_categorical_accuracy: 0.8732 - lr: 1.0000e-04\n",
            "Epoch 224/300\n",
            "180/180 [==============================] - 8s 44ms/step - loss: 0.2763 - categorical_accuracy: 0.9010 - val_loss: 0.4393 - val_categorical_accuracy: 0.8756 - lr: 1.0000e-04\n",
            "Epoch 225/300\n",
            "180/180 [==============================] - 6s 34ms/step - loss: 0.2690 - categorical_accuracy: 0.9027 - val_loss: 0.4253 - val_categorical_accuracy: 0.8829 - lr: 1.0000e-04\n",
            "Epoch 226/300\n",
            "180/180 [==============================] - 9s 49ms/step - loss: 0.2669 - categorical_accuracy: 0.9036 - val_loss: 0.4299 - val_categorical_accuracy: 0.8805 - lr: 1.0000e-04\n",
            "Epoch 227/300\n",
            "180/180 [==============================] - 6s 35ms/step - loss: 0.2675 - categorical_accuracy: 0.9070 - val_loss: 0.4245 - val_categorical_accuracy: 0.8854 - lr: 1.0000e-04\n",
            "Epoch 228/300\n",
            "180/180 [==============================] - 7s 41ms/step - loss: 0.2676 - categorical_accuracy: 0.9063 - val_loss: 0.4280 - val_categorical_accuracy: 0.8829 - lr: 1.0000e-04\n",
            "Epoch 229/300\n",
            "180/180 [==============================] - 7s 41ms/step - loss: 0.2698 - categorical_accuracy: 0.9048 - val_loss: 0.4351 - val_categorical_accuracy: 0.8829 - lr: 1.0000e-04\n",
            "Epoch 230/300\n",
            "180/180 [==============================] - 6s 35ms/step - loss: 0.2624 - categorical_accuracy: 0.9070 - val_loss: 0.4782 - val_categorical_accuracy: 0.8659 - lr: 1.0000e-04\n",
            "Epoch 231/300\n",
            "180/180 [==============================] - 9s 48ms/step - loss: 0.2643 - categorical_accuracy: 0.9068 - val_loss: 0.4436 - val_categorical_accuracy: 0.8805 - lr: 1.0000e-04\n",
            "Epoch 232/300\n",
            "180/180 [==============================] - 6s 35ms/step - loss: 0.2675 - categorical_accuracy: 0.9036 - val_loss: 0.4186 - val_categorical_accuracy: 0.8854 - lr: 1.0000e-04\n",
            "Epoch 233/300\n",
            "180/180 [==============================] - 8s 44ms/step - loss: 0.2654 - categorical_accuracy: 0.9058 - val_loss: 0.4608 - val_categorical_accuracy: 0.8756 - lr: 1.0000e-04\n",
            "Epoch 234/300\n",
            "180/180 [==============================] - 7s 39ms/step - loss: 0.2621 - categorical_accuracy: 0.9061 - val_loss: 0.4182 - val_categorical_accuracy: 0.8854 - lr: 1.0000e-04\n",
            "Epoch 235/300\n",
            "180/180 [==============================] - 7s 38ms/step - loss: 0.2610 - categorical_accuracy: 0.9097 - val_loss: 0.4396 - val_categorical_accuracy: 0.8805 - lr: 1.0000e-04\n",
            "Epoch 236/300\n",
            "180/180 [==============================] - 8s 47ms/step - loss: 0.2642 - categorical_accuracy: 0.9094 - val_loss: 0.4603 - val_categorical_accuracy: 0.8756 - lr: 1.0000e-04\n",
            "Epoch 237/300\n",
            "180/180 [==============================] - 6s 34ms/step - loss: 0.2606 - categorical_accuracy: 0.9073 - val_loss: 0.4590 - val_categorical_accuracy: 0.8780 - lr: 1.0000e-04\n",
            "Epoch 238/300\n",
            "180/180 [==============================] - 9s 51ms/step - loss: 0.2604 - categorical_accuracy: 0.9056 - val_loss: 0.4672 - val_categorical_accuracy: 0.8780 - lr: 1.0000e-04\n",
            "Epoch 239/300\n",
            "180/180 [==============================] - 9s 50ms/step - loss: 0.2592 - categorical_accuracy: 0.9077 - val_loss: 0.4461 - val_categorical_accuracy: 0.8854 - lr: 1.0000e-04\n",
            "Epoch 240/300\n",
            "180/180 [==============================] - 8s 42ms/step - loss: 0.2614 - categorical_accuracy: 0.9061 - val_loss: 0.4306 - val_categorical_accuracy: 0.8829 - lr: 1.0000e-04\n",
            "Epoch 241/300\n",
            "180/180 [==============================] - 8s 42ms/step - loss: 0.2579 - categorical_accuracy: 0.9085 - val_loss: 0.4446 - val_categorical_accuracy: 0.8854 - lr: 1.0000e-04\n",
            "Epoch 242/300\n",
            "180/180 [==============================] - 6s 35ms/step - loss: 0.2575 - categorical_accuracy: 0.9094 - val_loss: 0.4356 - val_categorical_accuracy: 0.8878 - lr: 1.0000e-04\n",
            "Epoch 243/300\n",
            "180/180 [==============================] - 9s 48ms/step - loss: 0.2564 - categorical_accuracy: 0.9080 - val_loss: 0.4490 - val_categorical_accuracy: 0.8805 - lr: 1.0000e-04\n",
            "Epoch 244/300\n",
            "180/180 [==============================] - 6s 34ms/step - loss: 0.2592 - categorical_accuracy: 0.9092 - val_loss: 0.4910 - val_categorical_accuracy: 0.8732 - lr: 1.0000e-04\n",
            "Epoch 245/300\n",
            "180/180 [==============================] - 8s 45ms/step - loss: 0.2554 - categorical_accuracy: 0.9080 - val_loss: 0.4541 - val_categorical_accuracy: 0.8756 - lr: 1.0000e-04\n",
            "Epoch 246/300\n",
            "180/180 [==============================] - 7s 39ms/step - loss: 0.2603 - categorical_accuracy: 0.9073 - val_loss: 0.4304 - val_categorical_accuracy: 0.8902 - lr: 1.0000e-04\n",
            "Epoch 247/300\n",
            "180/180 [==============================] - 7s 36ms/step - loss: 0.2546 - categorical_accuracy: 0.9104 - val_loss: 0.4269 - val_categorical_accuracy: 0.8829 - lr: 1.0000e-04\n",
            "Epoch 248/300\n",
            "180/180 [==============================] - 8s 46ms/step - loss: 0.2562 - categorical_accuracy: 0.9104 - val_loss: 0.4669 - val_categorical_accuracy: 0.8634 - lr: 1.0000e-04\n",
            "Epoch 249/300\n",
            "180/180 [==============================] - 6s 35ms/step - loss: 0.2563 - categorical_accuracy: 0.9094 - val_loss: 0.4426 - val_categorical_accuracy: 0.8805 - lr: 1.0000e-04\n",
            "Epoch 250/300\n",
            "180/180 [==============================] - 8s 45ms/step - loss: 0.2536 - categorical_accuracy: 0.9097 - val_loss: 0.4532 - val_categorical_accuracy: 0.8805 - lr: 1.0000e-04\n",
            "Epoch 251/300\n",
            "180/180 [==============================] - 7s 38ms/step - loss: 0.2561 - categorical_accuracy: 0.9070 - val_loss: 0.4725 - val_categorical_accuracy: 0.8634 - lr: 1.0000e-04\n",
            "Epoch 252/300\n",
            "180/180 [==============================] - 7s 38ms/step - loss: 0.2524 - categorical_accuracy: 0.9085 - val_loss: 0.4280 - val_categorical_accuracy: 0.8732 - lr: 1.0000e-04\n",
            "Epoch 253/300\n",
            "180/180 [==============================] - 8s 46ms/step - loss: 0.2521 - categorical_accuracy: 0.9107 - val_loss: 0.4757 - val_categorical_accuracy: 0.8732 - lr: 1.0000e-04\n",
            "Epoch 254/300\n",
            "180/180 [==============================] - 6s 35ms/step - loss: 0.2533 - categorical_accuracy: 0.9087 - val_loss: 0.4766 - val_categorical_accuracy: 0.8732 - lr: 1.0000e-04\n",
            "Epoch 255/300\n",
            "180/180 [==============================] - 9s 48ms/step - loss: 0.2514 - categorical_accuracy: 0.9077 - val_loss: 0.4569 - val_categorical_accuracy: 0.8707 - lr: 1.0000e-04\n",
            "Epoch 256/300\n",
            "180/180 [==============================] - 6s 35ms/step - loss: 0.2552 - categorical_accuracy: 0.9092 - val_loss: 0.4621 - val_categorical_accuracy: 0.8707 - lr: 1.0000e-04\n",
            "Epoch 257/300\n",
            "180/180 [==============================] - 7s 38ms/step - loss: 0.2559 - categorical_accuracy: 0.9114 - val_loss: 0.4447 - val_categorical_accuracy: 0.8829 - lr: 1.0000e-04\n",
            "Epoch 258/300\n",
            "180/180 [==============================] - 8s 45ms/step - loss: 0.2575 - categorical_accuracy: 0.9104 - val_loss: 0.4397 - val_categorical_accuracy: 0.8780 - lr: 1.0000e-04\n",
            "Epoch 259/300\n",
            "180/180 [==============================] - 9s 50ms/step - loss: 0.2509 - categorical_accuracy: 0.9104 - val_loss: 0.4498 - val_categorical_accuracy: 0.8805 - lr: 1.0000e-04\n",
            "Epoch 260/300\n",
            "180/180 [==============================] - 9s 48ms/step - loss: 0.2438 - categorical_accuracy: 0.9126 - val_loss: 0.4567 - val_categorical_accuracy: 0.8854 - lr: 1.0000e-04\n",
            "Epoch 261/300\n",
            "180/180 [==============================] - 6s 35ms/step - loss: 0.2643 - categorical_accuracy: 0.9082 - val_loss: 0.4586 - val_categorical_accuracy: 0.8780 - lr: 1.0000e-04\n",
            "Epoch 262/300\n",
            "180/180 [==============================] - 8s 45ms/step - loss: 0.2454 - categorical_accuracy: 0.9136 - val_loss: 0.4548 - val_categorical_accuracy: 0.8756 - lr: 1.0000e-04\n",
            "Epoch 263/300\n",
            "180/180 [==============================] - 7s 39ms/step - loss: 0.2523 - categorical_accuracy: 0.9111 - val_loss: 0.4401 - val_categorical_accuracy: 0.8854 - lr: 1.0000e-04\n",
            "Epoch 264/300\n",
            "180/180 [==============================] - 7s 38ms/step - loss: 0.2479 - categorical_accuracy: 0.9107 - val_loss: 0.4594 - val_categorical_accuracy: 0.8756 - lr: 1.0000e-04\n",
            "Epoch 265/300\n",
            "180/180 [==============================] - 8s 46ms/step - loss: 0.2514 - categorical_accuracy: 0.9104 - val_loss: 0.4612 - val_categorical_accuracy: 0.8659 - lr: 1.0000e-04\n",
            "Epoch 266/300\n",
            "180/180 [==============================] - 6s 35ms/step - loss: 0.2464 - categorical_accuracy: 0.9119 - val_loss: 0.4751 - val_categorical_accuracy: 0.8610 - lr: 1.0000e-04\n",
            "Epoch 267/300\n",
            "180/180 [==============================] - 9s 48ms/step - loss: 0.2499 - categorical_accuracy: 0.9092 - val_loss: 0.4739 - val_categorical_accuracy: 0.8805 - lr: 1.0000e-04\n",
            "Epoch 268/300\n",
            "180/180 [==============================] - 6s 36ms/step - loss: 0.2551 - categorical_accuracy: 0.9082 - val_loss: 0.4603 - val_categorical_accuracy: 0.8732 - lr: 1.0000e-04\n",
            "Epoch 269/300\n",
            "180/180 [==============================] - 7s 40ms/step - loss: 0.2438 - categorical_accuracy: 0.9123 - val_loss: 0.4613 - val_categorical_accuracy: 0.8780 - lr: 1.0000e-04\n",
            "Epoch 270/300\n",
            "180/180 [==============================] - 8s 44ms/step - loss: 0.2450 - categorical_accuracy: 0.9123 - val_loss: 0.4797 - val_categorical_accuracy: 0.8732 - lr: 1.0000e-04\n",
            "Epoch 271/300\n",
            "180/180 [==============================] - 6s 35ms/step - loss: 0.2527 - categorical_accuracy: 0.9099 - val_loss: 0.4393 - val_categorical_accuracy: 0.8780 - lr: 1.0000e-04\n",
            "Epoch 272/300\n",
            "180/180 [==============================] - 9s 48ms/step - loss: 0.2491 - categorical_accuracy: 0.9136 - val_loss: 0.4307 - val_categorical_accuracy: 0.8878 - lr: 1.0000e-04\n",
            "Epoch 273/300\n",
            "180/180 [==============================] - 6s 35ms/step - loss: 0.2460 - categorical_accuracy: 0.9119 - val_loss: 0.4447 - val_categorical_accuracy: 0.8805 - lr: 1.0000e-04\n",
            "Epoch 274/300\n",
            "180/180 [==============================] - 7s 40ms/step - loss: 0.2476 - categorical_accuracy: 0.9094 - val_loss: 0.4671 - val_categorical_accuracy: 0.8683 - lr: 1.0000e-04\n",
            "Epoch 275/300\n",
            "180/180 [==============================] - 8s 44ms/step - loss: 0.2423 - categorical_accuracy: 0.9126 - val_loss: 0.4556 - val_categorical_accuracy: 0.8854 - lr: 1.0000e-04\n",
            "Epoch 276/300\n",
            "180/180 [==============================] - 6s 35ms/step - loss: 0.2493 - categorical_accuracy: 0.9097 - val_loss: 0.4627 - val_categorical_accuracy: 0.8707 - lr: 1.0000e-04\n",
            "Epoch 277/300\n",
            "180/180 [==============================] - 9s 49ms/step - loss: 0.2398 - categorical_accuracy: 0.9133 - val_loss: 0.4767 - val_categorical_accuracy: 0.8732 - lr: 1.0000e-04\n",
            "Epoch 278/300\n",
            "180/180 [==============================] - 6s 35ms/step - loss: 0.2479 - categorical_accuracy: 0.9119 - val_loss: 0.4428 - val_categorical_accuracy: 0.8829 - lr: 1.0000e-04\n",
            "Epoch 279/300\n",
            "180/180 [==============================] - 8s 45ms/step - loss: 0.2488 - categorical_accuracy: 0.9109 - val_loss: 0.4334 - val_categorical_accuracy: 0.8780 - lr: 1.0000e-04\n",
            "Epoch 280/300\n",
            "180/180 [==============================] - 11s 58ms/step - loss: 0.2423 - categorical_accuracy: 0.9133 - val_loss: 0.4644 - val_categorical_accuracy: 0.8756 - lr: 1.0000e-04\n",
            "Epoch 281/300\n",
            "180/180 [==============================] - 6s 35ms/step - loss: 0.2387 - categorical_accuracy: 0.9131 - val_loss: 0.4465 - val_categorical_accuracy: 0.8805 - lr: 1.0000e-04\n",
            "Epoch 282/300\n",
            "180/180 [==============================] - 8s 45ms/step - loss: 0.2440 - categorical_accuracy: 0.9119 - val_loss: 0.4566 - val_categorical_accuracy: 0.8756 - lr: 1.0000e-04\n",
            "Epoch 283/300\n",
            "180/180 [==============================] - 7s 39ms/step - loss: 0.2509 - categorical_accuracy: 0.9073 - val_loss: 0.4468 - val_categorical_accuracy: 0.8707 - lr: 1.0000e-04\n",
            "Epoch 284/300\n",
            "180/180 [==============================] - 7s 38ms/step - loss: 0.2487 - categorical_accuracy: 0.9099 - val_loss: 0.4524 - val_categorical_accuracy: 0.8829 - lr: 1.0000e-04\n",
            "Epoch 285/300\n",
            "180/180 [==============================] - 8s 46ms/step - loss: 0.2424 - categorical_accuracy: 0.9114 - val_loss: 0.4429 - val_categorical_accuracy: 0.8829 - lr: 1.0000e-04\n",
            "Epoch 286/300\n",
            "180/180 [==============================] - 6s 35ms/step - loss: 0.2414 - categorical_accuracy: 0.9148 - val_loss: 0.4763 - val_categorical_accuracy: 0.8780 - lr: 1.0000e-04\n",
            "Epoch 287/300\n",
            "180/180 [==============================] - 9s 48ms/step - loss: 0.2425 - categorical_accuracy: 0.9136 - val_loss: 0.4511 - val_categorical_accuracy: 0.8732 - lr: 1.0000e-04\n",
            "Epoch 288/300\n",
            "180/180 [==============================] - 6s 36ms/step - loss: 0.2423 - categorical_accuracy: 0.9121 - val_loss: 0.4523 - val_categorical_accuracy: 0.8732 - lr: 1.0000e-04\n",
            "Epoch 289/300\n",
            "180/180 [==============================] - 7s 38ms/step - loss: 0.2395 - categorical_accuracy: 0.9150 - val_loss: 0.4529 - val_categorical_accuracy: 0.8683 - lr: 1.0000e-04\n",
            "Epoch 290/300\n",
            "180/180 [==============================] - 8s 45ms/step - loss: 0.2436 - categorical_accuracy: 0.9128 - val_loss: 0.4655 - val_categorical_accuracy: 0.8756 - lr: 1.0000e-04\n",
            "Epoch 291/300\n",
            "180/180 [==============================] - 6s 35ms/step - loss: 0.2382 - categorical_accuracy: 0.9150 - val_loss: 0.4531 - val_categorical_accuracy: 0.8805 - lr: 1.0000e-04\n",
            "Epoch 292/300\n",
            "180/180 [==============================] - 9s 47ms/step - loss: 0.2503 - categorical_accuracy: 0.9133 - val_loss: 0.4454 - val_categorical_accuracy: 0.8732 - lr: 1.0000e-04\n",
            "Epoch 293/300\n",
            "180/180 [==============================] - 6s 36ms/step - loss: 0.2449 - categorical_accuracy: 0.9148 - val_loss: 0.4488 - val_categorical_accuracy: 0.8829 - lr: 1.0000e-04\n",
            "Epoch 294/300\n",
            "180/180 [==============================] - 7s 38ms/step - loss: 0.2464 - categorical_accuracy: 0.9114 - val_loss: 0.4845 - val_categorical_accuracy: 0.8780 - lr: 1.0000e-04\n",
            "Epoch 295/300\n",
            "180/180 [==============================] - 8s 45ms/step - loss: 0.2394 - categorical_accuracy: 0.9126 - val_loss: 0.4612 - val_categorical_accuracy: 0.8756 - lr: 1.0000e-04\n",
            "Epoch 296/300\n",
            "180/180 [==============================] - 6s 35ms/step - loss: 0.2401 - categorical_accuracy: 0.9150 - val_loss: 0.4472 - val_categorical_accuracy: 0.8829 - lr: 1.0000e-04\n",
            "Epoch 297/300\n",
            "180/180 [==============================] - 9s 49ms/step - loss: 0.2403 - categorical_accuracy: 0.9150 - val_loss: 0.4704 - val_categorical_accuracy: 0.8683 - lr: 1.0000e-04\n",
            "Epoch 298/300\n",
            "180/180 [==============================] - 6s 35ms/step - loss: 0.2415 - categorical_accuracy: 0.9131 - val_loss: 0.4349 - val_categorical_accuracy: 0.8878 - lr: 1.0000e-04\n",
            "Epoch 299/300\n",
            "180/180 [==============================] - 7s 41ms/step - loss: 0.2352 - categorical_accuracy: 0.9148 - val_loss: 0.4944 - val_categorical_accuracy: 0.8732 - lr: 1.0000e-04\n",
            "Epoch 300/300\n",
            "180/180 [==============================] - 11s 63ms/step - loss: 0.2281 - categorical_accuracy: 0.9169 - val_loss: 0.4622 - val_categorical_accuracy: 0.8732 - lr: 1.0000e-05\n"
          ]
        }
      ]
    },
    {
      "cell_type": "code",
      "source": [
        "from sklearn.metrics import confusion_matrix\n",
        "import seaborn as sns\n",
        "import matplotlib.pyplot as plt"
      ],
      "metadata": {
        "id": "3E1lKlccvZlk"
      },
      "execution_count": 20,
      "outputs": []
    },
    {
      "cell_type": "code",
      "source": [
        "# Loss, Accuracy presentation\n",
        "\n",
        "# Plot history: Loss\n",
        "plt.plot(history.history['loss'], label='Loss (training data)')\n",
        "plt.plot(history.history['val_loss'], label='Loss (validation data)')\n",
        "plt.title('Loss for train and validation')\n",
        "plt.ylabel('Loss value')\n",
        "plt.xlabel('No. epoch')\n",
        "plt.legend(loc=\"upper left\")\n",
        "plt.show()\n",
        "\n",
        "#Plot history: Accuracy\n",
        "plt.plot(history.history['categorical_accuracy'], label='Acc (training data)')\n",
        "plt.plot(history.history['val_categorical_accuracy'], label='Acc (validation data)')\n",
        "plt.title('Model accuracy')\n",
        "plt.ylabel('Acc %')\n",
        "plt.xlabel('No. epoch')\n",
        "plt.legend(loc=\"upper left\")\n",
        "plt.show()"
      ],
      "metadata": {
        "colab": {
          "base_uri": "https://localhost:8080/",
          "height": 927
        },
        "id": "QIYAhn7Uvbd_",
        "outputId": "8bf4d2cd-1c97-4025-cda5-37fa398c2026"
      },
      "execution_count": 21,
      "outputs": [
        {
          "output_type": "display_data",
          "data": {
            "text/plain": [
              "<Figure size 640x480 with 1 Axes>"
            ],
            "image/png": "[encoded data removed]"
          },
          "metadata": {}
        },
        {
          "output_type": "display_data",
          "data": {
            "text/plain": [
              "<Figure size 640x480 with 1 Axes>"
            ],
            "image/png": "[encoded data removed]"
          },
          "metadata": {}
        }
      ]
    },
    {
      "cell_type": "code",
      "source": [
        "# Validation score\n",
        "loss,acc = model.evaluate(x_val, y_val_class, verbose=2)"
      ],
      "metadata": {
        "colab": {
          "base_uri": "https://localhost:8080/"
        },
        "id": "fh314-5kvdVj",
        "outputId": "b724cda8-e6b5-480f-e85b-aae75890183c"
      },
      "execution_count": 22,
      "outputs": [
        {
          "output_type": "stream",
          "name": "stdout",
          "text": [
            "13/13 - 0s - loss: 0.3710 - categorical_accuracy: 0.8976 - 213ms/epoch - 16ms/step\n"
          ]
        }
      ]
    },
    {
      "cell_type": "code",
      "source": [
        "# Validation Confusion matrix\n",
        "\n",
        "y_val_class = np.argmax(y_val_class, axis=1)\n",
        "predictions = model.predict(x_val)\n",
        "y_pred_class = np.argmax(predictions, axis=1)\n",
        "\n",
        "cm=confusion_matrix(y_val_class, y_pred_class)\n",
        "\n",
        "index = ['neutral', 'happy', 'sad', 'angry', 'fearful', 'disgust', 'surprised']\n",
        "columns = ['neutral', 'happy', 'sad', 'angry', 'fearful', 'disgust', 'surprised']\n",
        "\n",
        "cm_df = pd.DataFrame(cm,index,columns)\n",
        "plt.figure(figsize=(12,8))\n",
        "ax = plt.axes()\n",
        "\n",
        "sns.heatmap(cm_df, ax = ax, cmap = 'PuBu', fmt=\"d\", annot=True)\n",
        "ax.set_ylabel('True emotion')\n",
        "ax.set_xlabel('Predicted emotion')"
      ],
      "metadata": {
        "colab": {
          "base_uri": "https://localhost:8080/",
          "height": 238
        },
        "id": "6vbiM1ysvex2",
        "outputId": "d7e37ebf-f15f-4d87-8940-33f73513553a"
      },
      "execution_count": 23,
      "outputs": [
        {
          "output_type": "stream",
          "name": "stdout",
          "text": [
            "13/13 [==============================] - 1s 14ms/step\n"
          ]
        },
        {
          "output_type": "error",
          "ename": "NameError",
          "evalue": "name 'pd' is not defined",
          "traceback": [
            "\u001b[0;31m---------------------------------------------------------------------------\u001b[0m",
            "\u001b[0;31mNameError\u001b[0m                                 Traceback (most recent call last)",
            "\u001b[0;32m<ipython-input-23-41d1432d5c41>\u001b[0m in \u001b[0;36m<cell line: 12>\u001b[0;34m()\u001b[0m\n\u001b[1;32m     10\u001b[0m \u001b[0mcolumns\u001b[0m \u001b[0;34m=\u001b[0m \u001b[0;34m[\u001b[0m\u001b[0;34m'neutral'\u001b[0m\u001b[0;34m,\u001b[0m \u001b[0;34m'happy'\u001b[0m\u001b[0;34m,\u001b[0m \u001b[0;34m'sad'\u001b[0m\u001b[0;34m,\u001b[0m \u001b[0;34m'angry'\u001b[0m\u001b[0;34m,\u001b[0m \u001b[0;34m'fearful'\u001b[0m\u001b[0;34m,\u001b[0m \u001b[0;34m'disgust'\u001b[0m\u001b[0;34m,\u001b[0m \u001b[0;34m'surprised'\u001b[0m\u001b[0;34m]\u001b[0m\u001b[0;34m\u001b[0m\u001b[0;34m\u001b[0m\u001b[0m\n\u001b[1;32m     11\u001b[0m \u001b[0;34m\u001b[0m\u001b[0m\n\u001b[0;32m---> 12\u001b[0;31m \u001b[0mcm_df\u001b[0m \u001b[0;34m=\u001b[0m \u001b[0mpd\u001b[0m\u001b[0;34m.\u001b[0m\u001b[0mDataFrame\u001b[0m\u001b[0;34m(\u001b[0m\u001b[0mcm\u001b[0m\u001b[0;34m,\u001b[0m\u001b[0mindex\u001b[0m\u001b[0;34m,\u001b[0m\u001b[0mcolumns\u001b[0m\u001b[0;34m)\u001b[0m\u001b[0;34m\u001b[0m\u001b[0;34m\u001b[0m\u001b[0m\n\u001b[0m\u001b[1;32m     13\u001b[0m \u001b[0mplt\u001b[0m\u001b[0;34m.\u001b[0m\u001b[0mfigure\u001b[0m\u001b[0;34m(\u001b[0m\u001b[0mfigsize\u001b[0m\u001b[0;34m=\u001b[0m\u001b[0;34m(\u001b[0m\u001b[0;36m12\u001b[0m\u001b[0;34m,\u001b[0m\u001b[0;36m8\u001b[0m\u001b[0;34m)\u001b[0m\u001b[0;34m)\u001b[0m\u001b[0;34m\u001b[0m\u001b[0;34m\u001b[0m\u001b[0m\n\u001b[1;32m     14\u001b[0m \u001b[0max\u001b[0m \u001b[0;34m=\u001b[0m \u001b[0mplt\u001b[0m\u001b[0;34m.\u001b[0m\u001b[0maxes\u001b[0m\u001b[0;34m(\u001b[0m\u001b[0;34m)\u001b[0m\u001b[0;34m\u001b[0m\u001b[0;34m\u001b[0m\u001b[0m\n",
            "\u001b[0;31mNameError\u001b[0m: name 'pd' is not defined"
          ]
        }
      ]
    },
    {
      "cell_type": "code",
      "source": [
        "# Validation set prediction accuracy rates\n",
        "\n",
        "values = cm.diagonal()\n",
        "row_sum = np.sum(cm,axis=1)\n",
        "acc = values / row_sum\n",
        "\n",
        "print('Validation set predicted emotions accuracy:')\n",
        "for e in range(0, len(values)):\n",
        "    print(index[e],':', f\"{(acc[e]):0.4f}\")"
      ],
      "metadata": {
        "id": "Y_JBQd2mvg4i"
      },
      "execution_count": null,
      "outputs": []
    },
    {
      "cell_type": "code",
      "source": [
        "# Saving model & weights\n",
        "\n",
        "from keras.models import model_from_json\n",
        "from keras.models import load_model\n",
        "\n",
        "model_json = model.to_json()\n",
        "saved_model_path = '/content/drive/MyDrive/SER/model.json'\n",
        "saved_weights_path = '/content/drive/MyDrive/SER/model_weights.h5'\n",
        "\n",
        "\n",
        "with open(saved_model_path, \"w\") as json_file:\n",
        "    json_file.write(model_json)\n",
        "\n",
        "model.save_weights(saved_weights_path)\n",
        "print(\"Saved model to disk\")"
      ],
      "metadata": {
        "colab": {
          "base_uri": "https://localhost:8080/"
        },
        "id": "W7ID8_7ovirm",
        "outputId": "3d98c40f-5dd2-4242-f412-b799c83498b2"
      },
      "execution_count": 24,
      "outputs": [
        {
          "output_type": "stream",
          "name": "stdout",
          "text": [
            "Saved model to disk\n"
          ]
        }
      ]
    },
    {
      "cell_type": "code",
      "source": [
        "# Reading the model from JSON file\n",
        "\n",
        "saved_model_path = '/content/drive/MyDrive/SER/model.json'\n",
        "saved_weights_path = '/content/drive/MyDrive/SER/model_weights.h5'\n",
        "\n",
        "with open(saved_model_path , 'r') as json_file:\n",
        "    json_savedModel = json_file.read()\n",
        "\n",
        "# Loading the model architecture, weights\n",
        "model = tf.keras.models.model_from_json(json_savedModel)\n",
        "model.load_weights(saved_weights_path)\n",
        "\n",
        "# Compiling the model with similar parameters as the original model.\n",
        "model.compile(loss='categorical_crossentropy',\n",
        "                optimizer='RMSProp',\n",
        "                metrics=['categorical_accuracy'])\n",
        "\n",
        "# Model's structure visualization\n",
        "tf.keras.utils.plot_model(model, to_file='model.png', show_shapes=True, show_layer_names=True)"
      ],
      "metadata": {
        "colab": {
          "base_uri": "https://localhost:8080/",
          "height": 422
        },
        "id": "UgEcTGllvmbc",
        "outputId": "dfd3cbe1-f5fe-427c-a945-338893407811"
      },
      "execution_count": 25,
      "outputs": [
        {
          "output_type": "execute_result",
          "data": {
            "image/png": "[encoded data removed]",
            "text/plain": [
              "<IPython.core.display.Image object>"
            ]
          },
          "metadata": {},
          "execution_count": 25
        }
      ]
    },
    {
      "cell_type": "code",
      "source": [
        "# Loading x_test, y_test json files, and converting to np.arrays\n",
        "\n",
        "x_test = load( 'x_test_data.json')\n",
        "x_test = np.asarray(x_test).astype('float32')\n",
        "\n",
        "y_test = load('y_test_data.json')\n",
        "y_test = np.asarray(y_test).astype('int8')\n",
        "\n",
        "y_test_class = tf.keras.utils.to_categorical(y_test, 8, dtype = 'int8')"
      ],
      "metadata": {
        "id": "rd9yr5kIvp2y"
      },
      "execution_count": null,
      "outputs": []
    },
    {
      "cell_type": "code",
      "source": [
        "loss, acc = model.evaluate(x_test, y_test_class, verbose=2)"
      ],
      "metadata": {
        "colab": {
          "base_uri": "https://localhost:8080/"
        },
        "id": "Zw1qKNumvtTC",
        "outputId": "191ef6e5-72d0-40c9-9c87-6d1b0d83925d"
      },
      "execution_count": null,
      "outputs": [
        {
          "output_type": "stream",
          "name": "stdout",
          "text": [
            "4/4 - 0s - loss: 0.1264 - categorical_accuracy: 0.9346 - 234ms/epoch - 59ms/step\n"
          ]
        }
      ]
    },
    {
      "cell_type": "code",
      "source": [
        "# Test set Confusion matrix\n",
        "\n",
        "y_test_class = np.argmax(y_test_class, axis=1)\n",
        "predictions = model.predict(x_test)\n",
        "y_pred_class = np.argmax(predictions, axis=1)\n",
        "\n",
        "cm=confusion_matrix(y_test_class, y_pred_class)\n",
        "\n",
        "index = ['neutral', 'happy', 'sad', 'angry', 'fearful', 'disgust', 'surprised']\n",
        "columns = ['neutral', 'happy', 'sad', 'angry', 'fearful', 'disgust', 'surprised']\n",
        "\n",
        "cm_df = pd.DataFrame(cm,index,columns)\n",
        "plt.figure(figsize=(12,8))\n",
        "ax = plt.axes()\n",
        "\n",
        "sns.heatmap(cm_df, ax = ax, cmap = 'BuGn', fmt=\"d\", annot=True)\n",
        "ax.set_ylabel('True emotion')\n",
        "ax.set_xlabel('Predicted emotion')"
      ],
      "metadata": {
        "colab": {
          "base_uri": "https://localhost:8080/",
          "height": 738
        },
        "id": "XDjcxjPvvu0_",
        "outputId": "cffce1a1-b0bb-4599-fb95-4002dd5856e2"
      },
      "execution_count": null,
      "outputs": [
        {
          "output_type": "stream",
          "name": "stdout",
          "text": [
            "4/4 [==============================] - 0s 21ms/step\n"
          ]
        },
        {
          "output_type": "execute_result",
          "data": {
            "text/plain": [
              "Text(0.5, 58.7222222222222, 'Predicted emotion')"
            ]
          },
          "metadata": {},
          "execution_count": 111
        },
        {
          "output_type": "display_data",
          "data": {
            "text/plain": [
              "<Figure size 1200x800 with 2 Axes>"
            ],
            "image/png": "[encoded data removed]"
          },
          "metadata": {}
        }
      ]
    },
    {
      "cell_type": "code",
      "source": [
        "# Test set prediction accuracy rates\n",
        "\n",
        "values = cm.diagonal()\n",
        "row_sum = np.sum(cm,axis=1)\n",
        "acc = values / row_sum\n",
        "\n",
        "print('Test set predicted emotions accuracy:')\n",
        "for e in range(0, len(values)):\n",
        "    print(index[e],':', f\"{(acc[e]):0.4f}\")"
      ],
      "metadata": {
        "colab": {
          "base_uri": "https://localhost:8080/"
        },
        "id": "WgAZRi0lvwvm",
        "outputId": "2c86cca6-31ee-409b-9fcc-64a476b719ad"
      },
      "execution_count": null,
      "outputs": [
        {
          "output_type": "stream",
          "name": "stdout",
          "text": [
            "Test set predicted emotions accuracy:\n",
            "neutral : 0.9730\n",
            "happy : 0.8718\n",
            "sad : 1.0000\n",
            "angry : 0.9714\n",
            "fearful : 0.9722\n",
            "disgust : 1.0000\n",
            "surprised : 0.9286\n"
          ]
        }
      ]
    },
    {
      "cell_type": "code",
      "source": [],
      "metadata": {
        "id": "v3LN-P9jIY-Y"
      },
      "execution_count": null,
      "outputs": []
    }
  ]
}